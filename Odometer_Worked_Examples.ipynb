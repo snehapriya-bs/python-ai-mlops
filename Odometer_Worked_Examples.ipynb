{
  "nbformat": 4,
  "nbformat_minor": 0,
  "metadata": {
    "colab": {
      "private_outputs": true,
      "provenance": [],
      "include_colab_link": true
    },
    "kernelspec": {
      "name": "python3",
      "display_name": "Python 3"
    },
    "language_info": {
      "name": "python"
    }
  },
  "cells": [
    {
      "cell_type": "markdown",
      "metadata": {
        "id": "view-in-github",
        "colab_type": "text"
      },
      "source": [
        "<a href=\"https://colab.research.google.com/github/snehapriya-bs/python-ai-mlops/blob/main/Odometer_Worked_Examples.ipynb\" target=\"_parent\"><img src=\"https://colab.research.google.com/assets/colab-badge.svg\" alt=\"Open In Colab\"/></a>"
      ]
    },
    {
      "cell_type": "markdown",
      "source": [
        "# Euler 10\n",
        "\n",
        "## Find the sum of primes below 2 million\n",
        "\n",
        "## The key is a function that checks for primality\n",
        "\n",
        "## More efficient to generate primes via the Sieve"
      ],
      "metadata": {
        "id": "v_xTxwqvZ_EG"
      }
    },
    {
      "cell_type": "code",
      "source": [
        "def is_prime(n: int) -> bool:\n",
        "    if n < 2:\n",
        "        return False\n",
        "\n",
        "    if n in {2, 3, 5, 7}:\n",
        "        return True\n",
        "\n",
        "    if n % 2 == 0:\n",
        "        return False\n",
        "\n",
        "    r = 3\n",
        "    while r * r <= n:\n",
        "        if n % r == 0:\n",
        "            return False\n",
        "        r += 2\n",
        "    return True"
      ],
      "metadata": {
        "id": "w6aj9eFkaUN7"
      },
      "execution_count": null,
      "outputs": []
    },
    {
      "cell_type": "code",
      "source": [
        "def euler10(limit: int) -> int:\n",
        "    def is_prime_e10(n: int) -> bool:\n",
        "        '''Cannot be used outside'''\n",
        "        r = 3\n",
        "        while r * r <= n:\n",
        "            if n % r == 0:\n",
        "                return False\n",
        "            r += 2\n",
        "        return True\n",
        "    return 2 + sum(filter(is_prime_e10, range(3, limit, 2)))"
      ],
      "metadata": {
        "id": "dqlU1NiRauG5"
      },
      "execution_count": null,
      "outputs": []
    },
    {
      "cell_type": "code",
      "source": [
        "print(euler10(10))"
      ],
      "metadata": {
        "id": "FJ3BKfLia_O5"
      },
      "execution_count": null,
      "outputs": []
    },
    {
      "cell_type": "code",
      "source": [
        "%time print(euler10(2000000))"
      ],
      "metadata": {
        "id": "HCUI0Dwbbjxx"
      },
      "execution_count": null,
      "outputs": []
    },
    {
      "cell_type": "markdown",
      "source": [
        "# Euler 3\n",
        "# Funnily dont need is_prime!"
      ],
      "metadata": {
        "id": "FTXyMIKdbofe"
      }
    },
    {
      "cell_type": "code",
      "source": [
        "def factorize(n: int) -> list[int]:\n",
        "    factors = []\n",
        "    while n % 2 == 0:\n",
        "        factors.append(2)\n",
        "        n //= 2\n",
        "    r = 3\n",
        "    while n > r * r:\n",
        "        while n % r == 0:\n",
        "            factors.append(r)\n",
        "            n //= r\n",
        "        r += 2\n",
        "    if n == r * r:\n",
        "        factors.append(r)\n",
        "        factors.append(r)\n",
        "    elif n > 1:\n",
        "        factors.append(n)\n",
        "    return factors"
      ],
      "metadata": {
        "id": "6rpxk6iXcY4l"
      },
      "execution_count": null,
      "outputs": []
    },
    {
      "cell_type": "code",
      "source": [
        "print(factorize(13195))\n",
        "print(factorize(9 * 128))"
      ],
      "metadata": {
        "id": "eIRRkc7mdGuG"
      },
      "execution_count": null,
      "outputs": []
    },
    {
      "cell_type": "code",
      "source": [
        "def euler3(n: int) -> int:\n",
        "    return max(factorize(n))"
      ],
      "metadata": {
        "id": "SudpFweWdIgu"
      },
      "execution_count": null,
      "outputs": []
    },
    {
      "cell_type": "code",
      "source": [
        "%time print(euler3(600851475143))"
      ],
      "metadata": {
        "id": "nmBosaNzdaNR"
      },
      "execution_count": null,
      "outputs": []
    },
    {
      "cell_type": "code",
      "source": [
        "%time factorize(600851475143)"
      ],
      "metadata": {
        "id": "JdI6QBhxdfpi"
      },
      "execution_count": null,
      "outputs": []
    },
    {
      "cell_type": "code",
      "source": [
        "71 * 839 * 1471 * 6857"
      ],
      "metadata": {
        "id": "VLX86rujdmYQ"
      },
      "execution_count": null,
      "outputs": []
    },
    {
      "cell_type": "markdown",
      "source": [
        "# Euler 4\n",
        "## No easy optimization\n",
        "## Simple code is here\n",
        "### Advanced stuff: diagonalization"
      ],
      "metadata": {
        "id": "KM6lyL-VdqVW"
      }
    },
    {
      "cell_type": "code",
      "source": [
        "def is_palindrome(n: int) -> bool:\n",
        "    sn = str(n)\n",
        "    return sn == sn[::-1]\n",
        "\n",
        "def euler4(limit: int):\n",
        "    answer = 0, 0, 0\n",
        "\n",
        "    for i in range(1, limit):\n",
        "        for j in range(i, limit): # a trivial optimization\n",
        "            ij = i * j\n",
        "            if answer[0] < ij:\n",
        "                if is_palindrome(ij):\n",
        "                    answer = ij, i, j\n",
        "    return answer"
      ],
      "metadata": {
        "id": "iKhEWAQjerfv"
      },
      "execution_count": null,
      "outputs": []
    },
    {
      "cell_type": "code",
      "source": [
        "%time euler4(100)"
      ],
      "metadata": {
        "id": "wwDkqgWZfzJa"
      },
      "execution_count": null,
      "outputs": []
    },
    {
      "cell_type": "markdown",
      "source": [
        "# Euler 5\n",
        "# Made easy by math library"
      ],
      "metadata": {
        "id": "7JbIHGsxf3Gd"
      }
    },
    {
      "cell_type": "code",
      "source": [
        "import math"
      ],
      "metadata": {
        "id": "5EQYShOfgThW"
      },
      "execution_count": null,
      "outputs": []
    },
    {
      "cell_type": "code",
      "source": [
        "help(math.lcm)"
      ],
      "metadata": {
        "id": "hBncXtd5gU-1"
      },
      "execution_count": null,
      "outputs": []
    },
    {
      "cell_type": "code",
      "source": [
        "print(math.lcm(*range(1, 21)))"
      ],
      "metadata": {
        "id": "_S7x7iJKgWcK"
      },
      "execution_count": null,
      "outputs": []
    },
    {
      "cell_type": "markdown",
      "source": [
        "## Assuming you have to write lcm, this is a good case for reduce"
      ],
      "metadata": {
        "id": "kMRkpGJBgcBT"
      }
    },
    {
      "cell_type": "markdown",
      "source": [
        "# Euler 8"
      ],
      "metadata": {
        "id": "OlV6eSwWifTr"
      }
    },
    {
      "cell_type": "code",
      "source": [
        "euler8data = '''73167176531330624919225119674426574742355349194934\n",
        "96983520312774506326239578318016984801869478851843\n",
        "85861560789112949495459501737958331952853208805511\n",
        "12540698747158523863050715693290963295227443043557\n",
        "66896648950445244523161731856403098711121722383113\n",
        "62229893423380308135336276614282806444486645238749\n",
        "30358907296290491560440772390713810515859307960866\n",
        "70172427121883998797908792274921901699720888093776\n",
        "65727333001053367881220235421809751254540594752243\n",
        "52584907711670556013604839586446706324415722155397\n",
        "53697817977846174064955149290862569321978468622482\n",
        "83972241375657056057490261407972968652414535100474\n",
        "82166370484403199890008895243450658541227588666881\n",
        "16427171479924442928230863465674813919123162824586\n",
        "17866458359124566529476545682848912883142607690042\n",
        "24219022671055626321111109370544217506941658960408\n",
        "07198403850962455444362981230987879927244284909188\n",
        "84580156166097919133875499200524063689912560717606\n",
        "05886116467109405077541002256983155200055935729725\n",
        "71636269561882670428252483600823257530420752963450'''"
      ],
      "metadata": {
        "id": "Qfj3NwFbgns9"
      },
      "execution_count": null,
      "outputs": []
    },
    {
      "cell_type": "code",
      "source": [
        "len(euler8data)"
      ],
      "metadata": {
        "id": "LVEJPreVg7AZ"
      },
      "execution_count": null,
      "outputs": []
    },
    {
      "cell_type": "markdown",
      "source": [
        "## Note the presence of 19 \\n"
      ],
      "metadata": {
        "id": "dRq-M53Zg7-2"
      }
    },
    {
      "cell_type": "code",
      "source": [
        "d1000 = ''.join(euler8data.split())"
      ],
      "metadata": {
        "id": "Oe8HcgD5iHs3"
      },
      "execution_count": null,
      "outputs": []
    },
    {
      "cell_type": "code",
      "source": [
        "len(d1000)"
      ],
      "metadata": {
        "id": "glVplJoYi0Uw"
      },
      "execution_count": null,
      "outputs": []
    },
    {
      "cell_type": "code",
      "source": [
        "def euler8(size: int) -> int:\n",
        "    return max([product(_) for _ in sliding_window(d1000, size)])"
      ],
      "metadata": {
        "id": "Qg70S8uei112"
      },
      "execution_count": null,
      "outputs": []
    },
    {
      "cell_type": "code",
      "source": [
        "def product(s: str) -> int:\n",
        "    if '0' in s:\n",
        "        return 0\n",
        "    prod = 1\n",
        "    for d in s:\n",
        "        prod *= int(d)\n",
        "    return prod\n",
        "\n",
        "def sliding_window(ribbon: str, window_size: int):\n",
        "    for start in range(len(ribbon) + 1 - window_size):\n",
        "        yield ribbon[start: start + window_size]"
      ],
      "metadata": {
        "id": "l9WHEdYihE4e"
      },
      "execution_count": null,
      "outputs": []
    },
    {
      "cell_type": "code",
      "source": [
        "print(sliding_window(\"123456789abcdef\", 4))"
      ],
      "metadata": {
        "id": "TCudU067ow5_"
      },
      "execution_count": null,
      "outputs": []
    },
    {
      "cell_type": "code",
      "source": [
        "print(list(sliding_window(\"123456789abcdef\", 4)))"
      ],
      "metadata": {
        "id": "MEJEAmPRh_KL"
      },
      "execution_count": null,
      "outputs": []
    },
    {
      "cell_type": "code",
      "source": [
        "print(euler8(4))"
      ],
      "metadata": {
        "id": "H3hxIDYVjU8b"
      },
      "execution_count": null,
      "outputs": []
    },
    {
      "cell_type": "code",
      "source": [
        "print(euler8(13))"
      ],
      "metadata": {
        "id": "RPDjM6ZVjW4P"
      },
      "execution_count": null,
      "outputs": []
    },
    {
      "cell_type": "markdown",
      "source": [
        "# Euler 21\n",
        "\n",
        "# Key optimization is similar to $\\sqrt{n}$ optimization in is_prime\n",
        "\n"
      ],
      "metadata": {
        "id": "iX5iiBpRkhsl"
      }
    },
    {
      "cell_type": "code",
      "source": [
        "def sum_of_factors(n: int) -> int:\n",
        "    sof = 1\n",
        "    r = 2\n",
        "    while r * r < n:\n",
        "        if n % r == 0:\n",
        "            sof += r + (n // r)\n",
        "        r += 1\n",
        "    if n % r == 0:\n",
        "        sof += r\n",
        "    return sof"
      ],
      "metadata": {
        "id": "2hi0jlnvkkC3"
      },
      "execution_count": null,
      "outputs": []
    },
    {
      "cell_type": "code",
      "source": [
        "sum_of_factors(220)"
      ],
      "metadata": {
        "id": "3U1f8XSFlnxV"
      },
      "execution_count": null,
      "outputs": []
    },
    {
      "cell_type": "code",
      "source": [
        "sum_of_factors(284)"
      ],
      "metadata": {
        "id": "e-KKt5HslrA_"
      },
      "execution_count": null,
      "outputs": []
    },
    {
      "cell_type": "code",
      "source": [
        "def gen_amicable_pairs(limit: int) -> list[tuple[int, int]]:\n",
        "    for n in range(1, limit):\n",
        "        a = sum_of_factors(n)\n",
        "        if n < a:\n",
        "            if n == sum_of_factors(a):\n",
        "                yield n, a"
      ],
      "metadata": {
        "id": "SWFXo_pZluxy"
      },
      "execution_count": null,
      "outputs": []
    },
    {
      "cell_type": "code",
      "source": [
        "print(list(gen_amicable_pairs(300)))"
      ],
      "metadata": {
        "id": "lonPYT1umihF"
      },
      "execution_count": null,
      "outputs": []
    },
    {
      "cell_type": "code",
      "source": [
        "print(list(gen_amicable_pairs(1200)))"
      ],
      "metadata": {
        "id": "37JejPVPmqAc"
      },
      "execution_count": null,
      "outputs": []
    },
    {
      "cell_type": "code",
      "source": [
        "def euler21(limit: int) -> int:\n",
        "    return sum([sum(_) for _ in gen_amicable_pairs(limit)])"
      ],
      "metadata": {
        "id": "oFegcSYPmyEf"
      },
      "execution_count": null,
      "outputs": []
    },
    {
      "cell_type": "code",
      "source": [
        "%time print(euler21(10000))"
      ],
      "metadata": {
        "id": "RQovgRdXm_-N"
      },
      "execution_count": null,
      "outputs": []
    },
    {
      "cell_type": "code",
      "source": [
        "def bad_sliding_window(ribbon: str, window_size: int):\n",
        "    sliding_windows = []\n",
        "    for start in range(len(ribbon) + 1 - window_size):\n",
        "        sliding_windows.append(ribbon[start: start + window_size])\n",
        "    return sliding_windows"
      ],
      "metadata": {
        "id": "1b-z-m71nEFR"
      },
      "execution_count": null,
      "outputs": []
    },
    {
      "cell_type": "code",
      "source": [
        "def collatz(n: int) -> list[int]:\n",
        "    while n != 4:\n",
        "        yield n\n",
        "        n = n // 2 if n % 2 == 0 else 1 + 3 * n\n",
        "    yield 4\n",
        "    yield 2\n",
        "    return 1"
      ],
      "metadata": {
        "id": "7b8TWJd0sr_K"
      },
      "execution_count": null,
      "outputs": []
    },
    {
      "cell_type": "markdown",
      "source": [
        "# Odometer"
      ],
      "metadata": {
        "id": "bl4iQitBtWPo"
      }
    },
    {
      "cell_type": "code",
      "source": [
        "DIGITS = \"123456789\"\n",
        "\n",
        "\n",
        "def is_ascending(n: int) -> bool:\n",
        "    if n < 10:\n",
        "        return True\n",
        "    if (n // 10) % 10 >= n % 10:\n",
        "        return False\n",
        "    return is_ascending(n // 10)\n",
        "\n",
        "\n",
        "def get_limits(n: int) -> tuple[int, int]:\n",
        "    size = len(str(n))\n",
        "    return int(DIGITS[:size]), int(DIGITS[-size:])\n",
        "\n",
        "\n",
        "def forward(reading: int, steps: int = 1) -> int:\n",
        "    start, limit = get_limits(reading)\n",
        "    for _ in range(steps):\n",
        "        if reading == limit:\n",
        "            reading = start\n",
        "        else:\n",
        "            reading += 1\n",
        "            while not is_ascending(reading):\n",
        "                reading += 1\n",
        "    return reading\n",
        "\n",
        "\n",
        "def backward(reading: int, steps: int = 1) -> int:\n",
        "    start, limit = get_limits(reading)\n",
        "    for _ in range(steps):\n",
        "        if reading == start:\n",
        "            reading = limit\n",
        "        else:\n",
        "            reading -= 1\n",
        "            while not is_ascending(reading):\n",
        "                reading -= 1\n",
        "    return reading\n",
        "\n",
        "\n",
        "def distance(a_reading: int, b_reading: int) -> int:\n",
        "    if len(str(a_reading)) != len(str(b_reading)):\n",
        "        return -1\n",
        "    diff = 0\n",
        "    while a_reading != b_reading:\n",
        "        a_reading = forward(a_reading)\n",
        "        diff += 1\n",
        "    return diff\n",
        "\n"
      ],
      "metadata": {
        "id": "Mm6vAoIb3v_D"
      },
      "execution_count": null,
      "outputs": []
    }
  ]
}