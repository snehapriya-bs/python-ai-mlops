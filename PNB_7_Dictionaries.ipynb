{
  "nbformat": 4,
  "nbformat_minor": 0,
  "metadata": {
    "colab": {
      "provenance": [],
      "include_colab_link": true
    },
    "kernelspec": {
      "name": "python3",
      "display_name": "Python 3"
    },
    "language_info": {
      "name": "python"
    }
  },
  "cells": [
    {
      "cell_type": "markdown",
      "metadata": {
        "id": "view-in-github",
        "colab_type": "text"
      },
      "source": [
        "<a href=\"https://colab.research.google.com/github/snehapriya-bs/python-ai-mlops/blob/main/PNB_7_Dictionaries.ipynb\" target=\"_parent\"><img src=\"https://colab.research.google.com/assets/colab-badge.svg\" alt=\"Open In Colab\"/></a>"
      ]
    },
    {
      "cell_type": "markdown",
      "source": [
        "## Practice Notebook"
      ],
      "metadata": {
        "id": "xT7BS95x1w-9"
      }
    },
    {
      "cell_type": "markdown",
      "source": [
        "Dictionary is a composite datatype in the Python programming language. In a way, it is similar to lists. Lists are a collection of elements. Dictionaries are a collection of key, value pairs. Solutions to many programming problems can be easy and more concise with dictionaries. Here we explain all the important methods in the dictionary and some problem-solving with examples.\n",
        "\n",
        "Click [here](https://docs.python.org/3/library/stdtypes.html#mapping-types-dict) to go through official documentation on `dictionaries`."
      ],
      "metadata": {
        "id": "22fQfO2n3R4Z"
      }
    },
    {
      "cell_type": "markdown",
      "source": [
        "#### Exercise 1:\n",
        "From The dictionary created below, do the following:\n",
        "\n",
        "* Return a list of all the keys, using `list()` or `.keys()`.\n",
        "\n",
        "* Return the values of the dictionary using `.values()`.\n",
        "\n"
      ],
      "metadata": {
        "id": "J093ur414qXD"
      }
    },
    {
      "cell_type": "code",
      "execution_count": null,
      "metadata": {
        "id": "2YqKC6m61rqZ"
      },
      "outputs": [],
      "source": [
        "dict1 = {\"Delhi\" : \"New Delhi\", \"Uttar Pradesh\" : \"Lucknow\",\"Madhya Pradesh\" : \"Bhopal\",\"Karnataka\" : \"Bengaluru\",\"Assam\" : \"Dispur\",\"Gujarat\" : \"Gandhinagar\"}"
      ]
    },
    {
      "cell_type": "code",
      "source": [
        "# YOUR CODE HERE"
      ],
      "metadata": {
        "id": "x9NwmHSE9tXz"
      },
      "execution_count": null,
      "outputs": []
    },
    {
      "cell_type": "code",
      "source": [
        "# YOUR CODE HERE"
      ],
      "metadata": {
        "id": "K6JM6mps9zGR"
      },
      "execution_count": null,
      "outputs": []
    },
    {
      "cell_type": "markdown",
      "source": [
        "#### Exercise 2:\n",
        "From the dictionary created in Exercise 1-\n",
        "\n",
        "* Display the capital of Karnataka by retrieving the corresponding value for the key."
      ],
      "metadata": {
        "id": "-g9lEVYr7QNt"
      }
    },
    {
      "cell_type": "code",
      "source": [
        "# YOUR CODE HERE"
      ],
      "metadata": {
        "id": "7ZCZO0ms7ILp"
      },
      "execution_count": null,
      "outputs": []
    },
    {
      "cell_type": "markdown",
      "source": [
        "#### Exercise 3:\n",
        "\n",
        "Add (and print) a new element in the dictionary."
      ],
      "metadata": {
        "id": "HUJg6Y_w8K1c"
      }
    },
    {
      "cell_type": "code",
      "source": [
        "# YOUR CODE HERE"
      ],
      "metadata": {
        "id": "kDeZ642qgy8_"
      },
      "execution_count": null,
      "outputs": []
    },
    {
      "cell_type": "markdown",
      "source": [
        "####Exercise 4:\n",
        "\n",
        "- Return the length of the dictionary using `len()`.\n"
      ],
      "metadata": {
        "id": "7lf9Hxs9CFFc"
      }
    },
    {
      "cell_type": "code",
      "source": [
        "# YOUR CODE HERE"
      ],
      "metadata": {
        "id": "duut09pZB9F9"
      },
      "execution_count": null,
      "outputs": []
    },
    {
      "cell_type": "markdown",
      "source": [
        "####Exercise 5:\n",
        "\n",
        "* Remove a key value pair from the dictionary.\n",
        "* Add the same key value pair again in the `dictionary`.\n",
        "* Display all the key-value pairs using `items()`."
      ],
      "metadata": {
        "id": "P-r0gerfEFyi"
      }
    },
    {
      "cell_type": "code",
      "source": [
        "# YOUR CODE HERE"
      ],
      "metadata": {
        "id": "5JdipHYYIrzG"
      },
      "execution_count": null,
      "outputs": []
    },
    {
      "cell_type": "code",
      "source": [
        "# YOUR CODE HERE"
      ],
      "metadata": {
        "id": "Z1rzWNkkEe1U"
      },
      "execution_count": null,
      "outputs": []
    },
    {
      "cell_type": "code",
      "source": [
        "# YOUR CODE HERE"
      ],
      "metadata": {
        "id": "jtQVrlnzDI5Z"
      },
      "execution_count": null,
      "outputs": []
    },
    {
      "cell_type": "code",
      "source": [
        "# YOUR CODE HERE"
      ],
      "metadata": {
        "id": "VM6oA8j6DaVF"
      },
      "execution_count": null,
      "outputs": []
    },
    {
      "cell_type": "code",
      "source": [
        "# YOUR CODE HERE"
      ],
      "metadata": {
        "id": "r33SZ8yyFE69"
      },
      "execution_count": null,
      "outputs": []
    },
    {
      "cell_type": "code",
      "source": [
        "# YOUR CODE HERE"
      ],
      "metadata": {
        "id": "60BUPAdHFSSj"
      },
      "execution_count": null,
      "outputs": []
    },
    {
      "cell_type": "markdown",
      "source": [
        "#### Exercise 6:\n",
        "\n",
        "Iterate over the keys of the dictionary using `for` and `.keys()` and print all the state capitals."
      ],
      "metadata": {
        "id": "O9LfCd_kL00L"
      }
    },
    {
      "cell_type": "code",
      "source": [
        "# YOUR CODE HERE"
      ],
      "metadata": {
        "id": "_jmS3h7qLq8I"
      },
      "execution_count": null,
      "outputs": []
    },
    {
      "cell_type": "markdown",
      "source": [
        "#### Exercise 7:\n",
        "\n",
        "* Initialize an empty dictionary ‘sen_map’.\n",
        "* Make the sentences all lower case.\n",
        "* Iterate over each word in the sentences.\n",
        "* Check if a word exists in the sen_map.\n",
        "* If not then add the word with a value of 1.\n",
        "* Otherwise, update the value of that word by 1."
      ],
      "metadata": {
        "id": "qvVSS8PSjDBT"
      }
    },
    {
      "cell_type": "code",
      "source": [
        "sents = \"TalentSprint is a digital platform designed to transform the lives of professionals in the new economy. Its blended bootcamps offer deeptech skills.\""
      ],
      "metadata": {
        "id": "NRHRUlggk4vs"
      },
      "execution_count": null,
      "outputs": []
    },
    {
      "cell_type": "code",
      "source": [
        "# YOUR CODE HERE"
      ],
      "metadata": {
        "id": "54llyHu8jNHC"
      },
      "execution_count": null,
      "outputs": []
    },
    {
      "cell_type": "markdown",
      "source": [
        "#### Exercies 8:\n",
        "\n",
        "* Initialize an empty dictionary ‘counts’.\n",
        "* Define the following list names = ['Jack', 'John', 'Jill', 'John'].\n",
        "* Print the frequency count of elements in a list using a dictionary.\n",
        "* Using get method print the value of john.\n",
        "* Print a list of tuples containing the key-value pairs in ‘counts’.\n",
        "\n"
      ],
      "metadata": {
        "id": "T-D_DCUcPcqJ"
      }
    },
    {
      "cell_type": "code",
      "source": [
        "# YOUR CODE HERE"
      ],
      "metadata": {
        "id": "JAByE5_rPZmr"
      },
      "execution_count": null,
      "outputs": []
    },
    {
      "cell_type": "code",
      "source": [
        "# YOUR CODE HERE # The Python dictionary .get() method provides a convenient way of getting the value of a key from a dictionary"
      ],
      "metadata": {
        "id": "RghSmebepmLS"
      },
      "execution_count": null,
      "outputs": []
    },
    {
      "cell_type": "code",
      "source": [
        "# YOUR CODE HERE"
      ],
      "metadata": {
        "id": "iOBm5ICRmnNT"
      },
      "execution_count": null,
      "outputs": []
    }
  ]
}