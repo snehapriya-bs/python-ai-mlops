{
  "nbformat": 4,
  "nbformat_minor": 0,
  "metadata": {
    "colab": {
      "private_outputs": true,
      "provenance": [],
      "include_colab_link": true
    },
    "kernelspec": {
      "name": "python3",
      "display_name": "Python 3"
    },
    "language_info": {
      "name": "python"
    }
  },
  "cells": [
    {
      "cell_type": "markdown",
      "metadata": {
        "id": "view-in-github",
        "colab_type": "text"
      },
      "source": [
        "<a href=\"https://colab.research.google.com/github/snehapriya-bs/python-ai-mlops/blob/main/pandas_AIMLOps20240914.ipynb\" target=\"_parent\"><img src=\"https://colab.research.google.com/assets/colab-badge.svg\" alt=\"Open In Colab\"/></a>"
      ]
    },
    {
      "cell_type": "code",
      "execution_count": null,
      "metadata": {
        "id": "j3a7PC5ynWDY"
      },
      "outputs": [],
      "source": [
        "def is_prime(n: int) -> bool:\n",
        "    if n < 2:\n",
        "        return False\n",
        "\n",
        "    if n in {2, 3, 5, 7}:\n",
        "        return True\n",
        "\n",
        "    if n % 2 == 0:\n",
        "        return False\n",
        "\n",
        "    r = 3\n",
        "    while r * r <= n:\n",
        "        if n % r == 0:\n",
        "            return False\n",
        "        r += 2\n",
        "    return True"
      ]
    },
    {
      "cell_type": "markdown",
      "source": [
        "# if $a$ divides $N$ so does $n//a$\n",
        "\n",
        "# So for every factor below the square root, there is a corresponding factor above the square root\n",
        "\n",
        "# So if there are no factors below the square root, **there cannot be** a factor above the square root"
      ],
      "metadata": {
        "id": "Bp_ZxcdFp6R6"
      }
    },
    {
      "cell_type": "code",
      "source": [
        "!wc -l ghw.csv"
      ],
      "metadata": {
        "id": "L2to3kJhuII0"
      },
      "execution_count": null,
      "outputs": []
    },
    {
      "cell_type": "code",
      "source": [
        "!head ghw.csv"
      ],
      "metadata": {
        "id": "ya5BSJ9mwuV8"
      },
      "execution_count": null,
      "outputs": []
    },
    {
      "cell_type": "code",
      "source": [
        "!tail ghw.csv"
      ],
      "metadata": {
        "id": "B8x_zWAPw1yD"
      },
      "execution_count": null,
      "outputs": []
    },
    {
      "cell_type": "code",
      "source": [
        "!grep \"Male\" < ghw.csv | wc -l"
      ],
      "metadata": {
        "id": "S3gd_wHXw4dn"
      },
      "execution_count": null,
      "outputs": []
    },
    {
      "cell_type": "code",
      "source": [
        "FIRST_LINE = True\n",
        "COMMA, QUOTE = ',', '\"'\n",
        "data = []\n",
        "for line in open(\"ghw.csv\"):\n",
        "    if FIRST_LINE:\n",
        "        FIRST_LINE = False\n",
        "    else:\n",
        "        data.append(line.strip())"
      ],
      "metadata": {
        "id": "tgewNVQ8w9kW"
      },
      "execution_count": null,
      "outputs": []
    },
    {
      "cell_type": "code",
      "source": [
        "data[:10]"
      ],
      "metadata": {
        "id": "z9hDLYskyS2A"
      },
      "execution_count": null,
      "outputs": []
    },
    {
      "cell_type": "code",
      "source": [
        "FIRST_LINE = True\n",
        "COMMA, QUOTE = ',', '\"'\n",
        "data = []\n",
        "for line in open(\"ghw.csv\"):\n",
        "    if FIRST_LINE:\n",
        "        FIRST_LINE = False\n",
        "    else:\n",
        "        g, h, w = line.strip().split(COMMA)\n",
        "        data.append((g, h, w))"
      ],
      "metadata": {
        "id": "p4LcCfuVyT84"
      },
      "execution_count": null,
      "outputs": []
    },
    {
      "cell_type": "code",
      "source": [
        "data[:10]"
      ],
      "metadata": {
        "id": "hi3ihLJrypDE"
      },
      "execution_count": null,
      "outputs": []
    },
    {
      "cell_type": "code",
      "source": [
        "FIRST_LINE = True\n",
        "COMMA, QUOTE = ',', '\"'\n",
        "data = []\n",
        "for line in open(\"ghw.csv\"):\n",
        "    if FIRST_LINE:\n",
        "        FIRST_LINE = False\n",
        "    else:\n",
        "        raw_g, raw_h, raw_w = line.strip().split(COMMA)\n",
        "        g = raw_g.strip(QUOTE)\n",
        "        h = float(raw_h)\n",
        "        w = float(raw_w)\n",
        "        data.append((g, h, w))"
      ],
      "metadata": {
        "id": "AVGyqIawyqV3"
      },
      "execution_count": null,
      "outputs": []
    },
    {
      "cell_type": "code",
      "source": [
        "data[:10]"
      ],
      "metadata": {
        "id": "XLO1fRhLzAFW"
      },
      "execution_count": null,
      "outputs": []
    },
    {
      "cell_type": "code",
      "source": [
        "POUNDS2KG, INCHES2CM = 0.454, 2.54\n",
        "FIRST_LINE = True\n",
        "COMMA, QUOTE = ',', '\"'\n",
        "data = []\n",
        "for line in open(\"ghw.csv\"):\n",
        "    if FIRST_LINE:\n",
        "        FIRST_LINE = False\n",
        "    else:\n",
        "        raw_g, raw_h, raw_w = line.strip().split(COMMA)\n",
        "        g = raw_g.strip(QUOTE)\n",
        "        h = int(float(raw_h) * INCHES2CM + 0.5)\n",
        "        w = int(float(raw_w) * POUNDS2KG + 0.5)\n",
        "        data.append((g, h, w))"
      ],
      "metadata": {
        "id": "6yj0ITX7zBH3"
      },
      "execution_count": null,
      "outputs": []
    },
    {
      "cell_type": "code",
      "source": [
        "data[:10]"
      ],
      "metadata": {
        "id": "MeIhEKKYzruz"
      },
      "execution_count": null,
      "outputs": []
    },
    {
      "cell_type": "code",
      "source": [
        "print(round(1.5))\n",
        "print(round(2.5))"
      ],
      "metadata": {
        "id": "wNybFJO1zsv4"
      },
      "execution_count": null,
      "outputs": []
    },
    {
      "cell_type": "code",
      "source": [
        "import pandas as pd"
      ],
      "metadata": {
        "id": "O-5is0WC0ChG"
      },
      "execution_count": null,
      "outputs": []
    },
    {
      "cell_type": "code",
      "source": [
        "data = pd.read_csv(\"ghw.csv\")"
      ],
      "metadata": {
        "id": "KSI3Oy620gkP"
      },
      "execution_count": null,
      "outputs": []
    },
    {
      "cell_type": "code",
      "source": [
        "data"
      ],
      "metadata": {
        "id": "PWPmn9OW0wGl"
      },
      "execution_count": null,
      "outputs": []
    },
    {
      "cell_type": "code",
      "source": [
        "data[:10]"
      ],
      "metadata": {
        "id": "jHtW5_Tn0xOM"
      },
      "execution_count": null,
      "outputs": []
    },
    {
      "cell_type": "code",
      "source": [
        "type(data)"
      ],
      "metadata": {
        "id": "WDfEJuU81ATb"
      },
      "execution_count": null,
      "outputs": []
    },
    {
      "cell_type": "code",
      "source": [
        "data.describe()"
      ],
      "metadata": {
        "id": "QbI_7S9H1D1I"
      },
      "execution_count": null,
      "outputs": []
    },
    {
      "cell_type": "code",
      "source": [
        "POUNDS2KG, INCHES2CM = 0.454, 2.54\n",
        "def lbs2kg(s: str) -> int:\n",
        "    return int(0.5 + POUNDS2KG * float(s))\n",
        "\n",
        "def ins2cm(s: str) -> int:\n",
        "    return int(0.5 + INCHES2CM * float(s))"
      ],
      "metadata": {
        "id": "tQNaeb291Sc7"
      },
      "execution_count": null,
      "outputs": []
    },
    {
      "cell_type": "code",
      "source": [
        "data = pd.read_csv(\"ghw.csv\", converters={\"Weight\": lbs2kg, \"Height\": ins2cm})"
      ],
      "metadata": {
        "id": "Fv92XkNl3DgO"
      },
      "execution_count": null,
      "outputs": []
    },
    {
      "cell_type": "code",
      "source": [
        "data.describe()"
      ],
      "metadata": {
        "id": "rVqxhBae3RvB"
      },
      "execution_count": null,
      "outputs": []
    },
    {
      "cell_type": "code",
      "source": [
        "data[\"Height\"]"
      ],
      "metadata": {
        "id": "HEXeMdFa3T0U"
      },
      "execution_count": null,
      "outputs": []
    },
    {
      "cell_type": "code",
      "source": [
        "data.Weight"
      ],
      "metadata": {
        "id": "5fyGshMY53K5"
      },
      "execution_count": null,
      "outputs": []
    },
    {
      "cell_type": "code",
      "source": [
        "men = data[data.Gender == \"Male\"]\n",
        "women = data[data.Gender == \"Female\"]\n",
        "tall = data[data.Height >= 180]"
      ],
      "metadata": {
        "id": "ZcbXO5RS6BNe"
      },
      "execution_count": null,
      "outputs": []
    },
    {
      "cell_type": "code",
      "source": [
        "men.describe()"
      ],
      "metadata": {
        "id": "q7TCw-r-7npU"
      },
      "execution_count": null,
      "outputs": []
    },
    {
      "cell_type": "code",
      "source": [
        "tall.describe()"
      ],
      "metadata": {
        "id": "-Eprkerc7pef"
      },
      "execution_count": null,
      "outputs": []
    },
    {
      "cell_type": "code",
      "source": [
        "pd.read_csv?"
      ],
      "metadata": {
        "id": "y_MTXQSX7q6X"
      },
      "execution_count": null,
      "outputs": []
    },
    {
      "cell_type": "code",
      "source": [
        "!cat mydata.txt"
      ],
      "metadata": {
        "id": "TdSZhHTB79Rn"
      },
      "execution_count": null,
      "outputs": []
    },
    {
      "cell_type": "code",
      "source": [
        "!cat mydata2.txt"
      ],
      "metadata": {
        "id": "9biGIoc99pJR"
      },
      "execution_count": null,
      "outputs": []
    },
    {
      "cell_type": "code",
      "source": [
        "mydata = pd.read_csv(\"mydata.txt\")"
      ],
      "metadata": {
        "id": "-9zBZgs39r3x"
      },
      "execution_count": null,
      "outputs": []
    },
    {
      "cell_type": "code",
      "source": [
        "mydata2 = pd.read_csv(\"mydata2.txt\")"
      ],
      "metadata": {
        "id": "GBsCqlVB90OH"
      },
      "execution_count": null,
      "outputs": []
    },
    {
      "cell_type": "code",
      "source": [
        "mydata"
      ],
      "metadata": {
        "id": "oWDpgSh-94w0"
      },
      "execution_count": null,
      "outputs": []
    },
    {
      "cell_type": "code",
      "source": [
        "mydata = pd.read_csv(\"mydata.txt\", header=None)"
      ],
      "metadata": {
        "id": "bcX_E3L_95bd"
      },
      "execution_count": null,
      "outputs": []
    },
    {
      "cell_type": "code",
      "source": [
        "mydata"
      ],
      "metadata": {
        "id": "-3ZJV3hH-BZ0"
      },
      "execution_count": null,
      "outputs": []
    },
    {
      "cell_type": "code",
      "source": [
        "mydata = pd.read_csv(\"mydata.txt\", header=None, names=[\"Name\", \"Age\"])"
      ],
      "metadata": {
        "id": "-yvAoO8L-EfL"
      },
      "execution_count": null,
      "outputs": []
    },
    {
      "cell_type": "code",
      "source": [
        "mydata"
      ],
      "metadata": {
        "id": "fiEaSimT-MMA"
      },
      "execution_count": null,
      "outputs": []
    },
    {
      "cell_type": "code",
      "source": [
        "mydata.Name"
      ],
      "metadata": {
        "id": "z-kqViGl-M7Z"
      },
      "execution_count": null,
      "outputs": []
    },
    {
      "cell_type": "code",
      "source": [],
      "metadata": {
        "id": "MMA2nVJx-Qv5"
      },
      "execution_count": null,
      "outputs": []
    },
    {
      "cell_type": "code",
      "source": [
        "pd.__version__"
      ],
      "metadata": {
        "id": "pNdyAClx-Y5y"
      },
      "execution_count": null,
      "outputs": []
    },
    {
      "cell_type": "code",
      "source": [
        "mydata2"
      ],
      "metadata": {
        "id": "bLX4Wr0j-wZd"
      },
      "execution_count": null,
      "outputs": []
    },
    {
      "cell_type": "code",
      "source": [
        "mydata2[\"Name\"]"
      ],
      "metadata": {
        "id": "JYYfDINX_M-k"
      },
      "execution_count": null,
      "outputs": []
    },
    {
      "cell_type": "code",
      "source": [
        "mydata2.Age"
      ],
      "metadata": {
        "id": "Rrg5oQpP_O7N"
      },
      "execution_count": null,
      "outputs": []
    },
    {
      "cell_type": "code",
      "source": [
        "mydata2[\"Age\"]"
      ],
      "metadata": {
        "id": "p64W6Ul6_QjZ"
      },
      "execution_count": null,
      "outputs": []
    },
    {
      "cell_type": "code",
      "source": [
        "mydata2[\" Age\"]"
      ],
      "metadata": {
        "id": "kPYYsI46_feH"
      },
      "execution_count": null,
      "outputs": []
    },
    {
      "cell_type": "code",
      "source": [
        "new_header = [\"Name\", \"Age\"]\n",
        "mydata2A = pd.read_csv(\"mydata2.txt\", header=0, names=new_header)"
      ],
      "metadata": {
        "id": "BAGmOegS_vgT"
      },
      "execution_count": null,
      "outputs": []
    },
    {
      "cell_type": "code",
      "source": [
        "mydata2A.Age"
      ],
      "metadata": {
        "id": "at-01qpCAgu6"
      },
      "execution_count": null,
      "outputs": []
    },
    {
      "cell_type": "code",
      "source": [],
      "metadata": {
        "id": "WBm95agmFH_9"
      },
      "execution_count": null,
      "outputs": []
    },
    {
      "cell_type": "code",
      "source": [
        "data.to_excel(\"Munged_ghw.xlsx\")"
      ],
      "metadata": {
        "id": "pXRWIKzGAihU"
      },
      "execution_count": null,
      "outputs": []
    },
    {
      "cell_type": "markdown",
      "source": [
        "# Matplotlib"
      ],
      "metadata": {
        "id": "G64nAVs9FsAe"
      }
    },
    {
      "cell_type": "code",
      "source": [
        "data = pd.read_csv(\"ghw.csv\", converters={\"Weight\": lbs2kg, \"Height\": ins2cm})\n",
        "men = data[data.Gender == \"Male\"]\n",
        "women = data[data.Gender == \"Female\"]\n",
        "tall = data[data.Height >= 180]"
      ],
      "metadata": {
        "id": "p0tyUkORJTP7"
      },
      "execution_count": null,
      "outputs": []
    },
    {
      "cell_type": "code",
      "source": [
        "import matplotlib.pyplot as plt"
      ],
      "metadata": {
        "id": "rUyQkypRIrCf"
      },
      "execution_count": null,
      "outputs": []
    },
    {
      "cell_type": "code",
      "source": [
        "plt.plot(data.Height, data.Weight, \"b.\")\n",
        "plt.show()"
      ],
      "metadata": {
        "id": "jApeH0F0JJnD"
      },
      "execution_count": null,
      "outputs": []
    },
    {
      "cell_type": "code",
      "source": [
        "plt.plot(data.Height, data.Weight, \"r+\")\n",
        "plt.xlabel(\"Height (in cm)\")\n",
        "plt.ylabel(\"Weight (in kg)\")\n",
        "plt.show()"
      ],
      "metadata": {
        "id": "rkT2fmY3JvKO"
      },
      "execution_count": null,
      "outputs": []
    },
    {
      "cell_type": "code",
      "source": [
        "plt.plot(men.Height, men.Weight, \"b+\")\n",
        "plt.plot(women.Height, women.Weight, \"k.\")\n",
        "plt.xlabel(\"Height (in cm)\")\n",
        "plt.ylabel(\"Weight (in kg)\")\n",
        "plt.show()"
      ],
      "metadata": {
        "id": "LmxQoaTIKC9W"
      },
      "execution_count": null,
      "outputs": []
    },
    {
      "cell_type": "code",
      "source": [
        "plt.plot([1, 2, 3], [3, 7, 10])\n",
        "plt.show()"
      ],
      "metadata": {
        "id": "DN2hHAj6Ka2J"
      },
      "execution_count": null,
      "outputs": []
    },
    {
      "cell_type": "markdown",
      "source": [
        "# More charting libraries\n",
        "\n",
        "# seaborn -- Stat specialised\n",
        "\n",
        "# bokeh -- web focused\n",
        "\n",
        "# plotly -- dashboard focused\n",
        "\n",
        "# altair -- declarative syntax\n",
        "\n",
        "# Mayavi -- 3D visualization"
      ],
      "metadata": {
        "id": "Y3wSMjcmK_sE"
      }
    },
    {
      "cell_type": "markdown",
      "source": [
        "# Lunch break\n",
        "# Til 13:50"
      ],
      "metadata": {
        "id": "A-yln5kBM2F1"
      }
    },
    {
      "cell_type": "markdown",
      "source": [
        "# Odometer"
      ],
      "metadata": {
        "id": "AJm3taGwVFUD"
      }
    },
    {
      "cell_type": "code",
      "source": [
        "DIGITS = \"123456789\"\n",
        "\n",
        "\n",
        "def is_ascending(n: int) -> bool:\n",
        "    if n < 10:\n",
        "        return True\n",
        "    if (n // 10) % 10 >= n % 10:\n",
        "        return False\n",
        "    return is_ascending(n // 10)\n",
        "\n",
        "\n",
        "def get_limits(n: int) -> tuple[int, int]:\n",
        "    size = len(str(n))\n",
        "    return int(DIGITS[:size]), int(DIGITS[-size:])\n",
        "\n",
        "\n",
        "def forward(reading: int, steps: int = 1) -> int:\n",
        "    start, limit = get_limits(reading)\n",
        "    for _ in range(steps):\n",
        "        if reading == limit:\n",
        "            reading = start\n",
        "        else:\n",
        "            reading += 1\n",
        "            while not is_ascending(reading):\n",
        "                reading += 1\n",
        "    return reading\n",
        "\n",
        "\n",
        "def backward(reading: int, steps: int = 1) -> int:\n",
        "    start, limit = get_limits(reading)\n",
        "    for _ in range(steps):\n",
        "        if reading == start:\n",
        "            reading = limit\n",
        "        else:\n",
        "            reading -= 1\n",
        "            while not is_ascending(reading):\n",
        "                reading -= 1\n",
        "    return reading\n",
        "\n",
        "\n",
        "def distance(a_reading: int, b_reading: int) -> int:\n",
        "    if len(str(a_reading)) != len(str(b_reading)):\n",
        "        return -1\n",
        "    diff = 0\n",
        "    while a_reading != b_reading:\n",
        "        a_reading = forward(a_reading)\n",
        "        diff += 1\n",
        "    return diff"
      ],
      "metadata": {
        "id": "nWLNZMls4LsF"
      },
      "execution_count": null,
      "outputs": []
    },
    {
      "cell_type": "markdown",
      "source": [
        "# Default arguments"
      ],
      "metadata": {
        "id": "7AsrMxcp4Z_U"
      }
    },
    {
      "cell_type": "code",
      "source": [
        "def is_vowel(ch: str) -> bool:\n",
        "    return ch in \"AEIOUaeiou\""
      ],
      "metadata": {
        "id": "MrgPSXAn4de6"
      },
      "execution_count": null,
      "outputs": []
    },
    {
      "cell_type": "code",
      "source": [
        "def is_vowel(ch: str, include_y = False):\n",
        "    if include_y:\n",
        "        return ch in \"AEIOUYaeiouy\"\n",
        "    else:\n",
        "        return ch in \"AEIOUaeiou\""
      ],
      "metadata": {
        "id": "mqe0EaGT4oCR"
      },
      "execution_count": null,
      "outputs": []
    },
    {
      "cell_type": "markdown",
      "source": [
        "# OOdometer"
      ],
      "metadata": {
        "id": "uRmGp60c5Q4R"
      }
    },
    {
      "cell_type": "code",
      "source": [
        "class Odometer:\n",
        "    pass"
      ],
      "metadata": {
        "id": "NmHEGtKcAqAK"
      },
      "execution_count": null,
      "outputs": []
    },
    {
      "cell_type": "code",
      "source": [
        "a = Odometer()"
      ],
      "metadata": {
        "id": "SXDduQ1WAuyJ"
      },
      "execution_count": null,
      "outputs": []
    },
    {
      "cell_type": "code",
      "source": [
        "type(a)"
      ],
      "metadata": {
        "id": "pANvlNQ-AyyF"
      },
      "execution_count": null,
      "outputs": []
    },
    {
      "cell_type": "code",
      "source": [
        "b = Odometer()"
      ],
      "metadata": {
        "id": "QMt0K5wpA0bx"
      },
      "execution_count": null,
      "outputs": []
    },
    {
      "cell_type": "code",
      "source": [
        "a == b"
      ],
      "metadata": {
        "id": "TnLUJUljA4SJ"
      },
      "execution_count": null,
      "outputs": []
    },
    {
      "cell_type": "code",
      "source": [
        "class Odometer:\n",
        "    def __init__(self, size: int):\n",
        "        self.size = size\n",
        "        self.START = int(\"123456789\"[:size])\n",
        "        self.LIMIT = int(\"123456789\"[-size:])\n",
        "        self.reading = self.START"
      ],
      "metadata": {
        "id": "laeiiXEhA5K0"
      },
      "execution_count": null,
      "outputs": []
    },
    {
      "cell_type": "code",
      "source": [
        "a = Odometer(3)"
      ],
      "metadata": {
        "id": "w1A8doNnCKHv"
      },
      "execution_count": null,
      "outputs": []
    },
    {
      "cell_type": "code",
      "source": [
        "print(a)"
      ],
      "metadata": {
        "id": "iAqlfba0CRDj"
      },
      "execution_count": null,
      "outputs": []
    },
    {
      "cell_type": "code",
      "source": [
        "def is_valid(n: int) -> bool:\n",
        "    return all(a < b for a, b in zip(str(n), str(n)[1:]))\n",
        "\n",
        "class Odometer:\n",
        "    def __init__(self, size: int):\n",
        "        self.size = size\n",
        "        self.START = int(\"123456789\"[:size])\n",
        "        self.LIMIT = int(\"123456789\"[-size:])\n",
        "        self.reading = self.START\n",
        "\n",
        "    def __str__(self) -> str:\n",
        "        return str(self.reading)\n",
        "\n",
        "    def forward(self, steps: int = 1):\n",
        "        for _ in range(steps):\n",
        "            if self.reading == self.LIMIT:\n",
        "                self.reading = self.START\n",
        "            else:\n",
        "                self.reading += 1\n",
        "                while not is_valid(self.reading):\n",
        "                    self.reading += 1\n",
        "\n",
        "    def backward(self, steps: int = 1):\n",
        "        for _ in range(steps):\n",
        "            if self.reading == self.START:\n",
        "                self.reading = self.LIMIT\n",
        "            else:\n",
        "                self.reading -= 1\n",
        "                while not is_valid(self.reading):\n",
        "                    self.reading -= 1\n"
      ],
      "metadata": {
        "id": "glYSlG-aCeXP"
      },
      "execution_count": null,
      "outputs": []
    },
    {
      "cell_type": "code",
      "source": [
        "a = Odometer(3)"
      ],
      "metadata": {
        "id": "_gNeOzbxCsmg"
      },
      "execution_count": null,
      "outputs": []
    },
    {
      "cell_type": "code",
      "source": [
        "print(a)"
      ],
      "metadata": {
        "id": "oGIHxhIJCyLR"
      },
      "execution_count": null,
      "outputs": []
    },
    {
      "cell_type": "code",
      "source": [
        "a.forward()"
      ],
      "metadata": {
        "id": "N7qR9g1hCzCd"
      },
      "execution_count": null,
      "outputs": []
    },
    {
      "cell_type": "code",
      "source": [
        "print(a)"
      ],
      "metadata": {
        "id": "e7LPVeSIGn_8"
      },
      "execution_count": null,
      "outputs": []
    },
    {
      "cell_type": "code",
      "source": [
        "a.forward(12)"
      ],
      "metadata": {
        "id": "LxXNVcbJGpCw"
      },
      "execution_count": null,
      "outputs": []
    },
    {
      "cell_type": "code",
      "source": [
        "print(a)"
      ],
      "metadata": {
        "id": "HmbjMZUEG4d4"
      },
      "execution_count": null,
      "outputs": []
    },
    {
      "cell_type": "code",
      "source": [
        "a.backward(13)"
      ],
      "metadata": {
        "id": "lW6WQJbkG5YZ"
      },
      "execution_count": null,
      "outputs": []
    },
    {
      "cell_type": "code",
      "source": [
        "print(a)"
      ],
      "metadata": {
        "id": "ZM150v7ZG7Vt"
      },
      "execution_count": null,
      "outputs": []
    },
    {
      "cell_type": "code",
      "source": [
        "def is_valid(n: int) -> bool:\n",
        "    return all(a < b for a, b in zip(str(n), str(n)[1:]))\n",
        "\n",
        "class Odometer:\n",
        "    def __init__(self, size: int):\n",
        "        self.size = size\n",
        "        self.START = int(\"123456789\"[:size])\n",
        "        self.LIMIT = int(\"123456789\"[-size:])\n",
        "        self.reading = self.START\n",
        "\n",
        "    def __str__(self) -> str:\n",
        "        return str(self.reading)\n",
        "\n",
        "    def forward(self, steps: int = 1):\n",
        "        for _ in range(steps):\n",
        "            if self.reading == self.LIMIT:\n",
        "                self.reading = self.START\n",
        "            else:\n",
        "                self.reading += 1\n",
        "                while not is_valid(self.reading):\n",
        "                    self.reading += 1\n",
        "\n",
        "    def backward(self, steps: int = 1):\n",
        "        for _ in range(steps):\n",
        "            if self.reading == self.START:\n",
        "                self.reading = self.LIMIT\n",
        "            else:\n",
        "                self.reading -= 1\n",
        "                while not is_valid(self.reading):\n",
        "                    self.reading -= 1\n",
        "\n",
        "    def distance(self, another) -> int:\n",
        "        if self.size != another.size:\n",
        "            return -1\n",
        "\n",
        "        #self_copy = Odometer(self.size)\n",
        "        #self_copy.reading = self.reading\n",
        "\n",
        "        diff = 0\n",
        "        while self.reading != another.reading:\n",
        "            self.forward()\n",
        "            diff += 1\n",
        "        return diff"
      ],
      "metadata": {
        "id": "5tCJFBxZG9EE"
      },
      "execution_count": null,
      "outputs": []
    },
    {
      "cell_type": "code",
      "source": [
        "a = Odometer(4)\n",
        "b = Odometer(4)"
      ],
      "metadata": {
        "id": "KcXtgKosKBvE"
      },
      "execution_count": null,
      "outputs": []
    },
    {
      "cell_type": "code",
      "source": [
        "print(a, b)"
      ],
      "metadata": {
        "id": "Ol82mMs2KFnD"
      },
      "execution_count": null,
      "outputs": []
    },
    {
      "cell_type": "code",
      "source": [
        "a.forward(10)\n",
        "b.backward(12)"
      ],
      "metadata": {
        "id": "rXL7yQ1EKHB5"
      },
      "execution_count": null,
      "outputs": []
    },
    {
      "cell_type": "code",
      "source": [
        "print(a, b)"
      ],
      "metadata": {
        "id": "3i5R1-ddKLZi"
      },
      "execution_count": null,
      "outputs": []
    },
    {
      "cell_type": "code",
      "source": [
        "print(b.distance(a))"
      ],
      "metadata": {
        "id": "iB5Z0inUKMVx"
      },
      "execution_count": null,
      "outputs": []
    },
    {
      "cell_type": "code",
      "source": [
        "print(a, b)"
      ],
      "metadata": {
        "id": "M1w-2w43KY5b"
      },
      "execution_count": null,
      "outputs": []
    },
    {
      "cell_type": "code",
      "source": [
        "def is_valid(n: int) -> bool:\n",
        "    return all(a < b for a, b in zip(str(n), str(n)[1:]))\n",
        "\n",
        "class Odometer:\n",
        "    def __init__(self, size: int):\n",
        "        self.size = size\n",
        "        self.START = int(\"123456789\"[:size])\n",
        "        self.LIMIT = int(\"123456789\"[-size:])\n",
        "        self.reading = self.START\n",
        "\n",
        "    def __str__(self) -> str:\n",
        "        return str(self.reading)\n",
        "\n",
        "    def forward(self, steps: int = 1):\n",
        "        for _ in range(steps):\n",
        "            if self.reading == self.LIMIT:\n",
        "                self.reading = self.START\n",
        "            else:\n",
        "                self.reading += 1\n",
        "                while not is_valid(self.reading):\n",
        "                    self.reading += 1\n",
        "\n",
        "    def backward(self, steps: int = 1):\n",
        "        for _ in range(steps):\n",
        "            if self.reading == self.START:\n",
        "                self.reading = self.LIMIT\n",
        "            else:\n",
        "                self.reading -= 1\n",
        "                while not is_valid(self.reading):\n",
        "                    self.reading -= 1\n",
        "\n",
        "    def distance(self, another) -> int:\n",
        "        if self.size != another.size:\n",
        "            return -1\n",
        "\n",
        "        self_copy = Odometer(self.size)\n",
        "        self_copy.reading = self.reading\n",
        "\n",
        "        diff = 0\n",
        "        while self_copy.reading != another.reading:\n",
        "            self_copy.forward()\n",
        "            diff += 1\n",
        "        return diff"
      ],
      "metadata": {
        "id": "HuuEV-byKaxV"
      },
      "execution_count": null,
      "outputs": []
    },
    {
      "cell_type": "code",
      "source": [
        "a = Odometer(4)\n",
        "b = Odometer(4)\n",
        "print(\"After init\", a, b)\n",
        "a.forward(10)\n",
        "b.backward(12)\n",
        "print(\"After moving\", a, b)"
      ],
      "metadata": {
        "id": "06zYbT44Ko2g"
      },
      "execution_count": null,
      "outputs": []
    },
    {
      "cell_type": "code",
      "source": [
        "print(a.distance(b))\n",
        "print(b.distance(a))"
      ],
      "metadata": {
        "id": "p19ezaCULCM7"
      },
      "execution_count": null,
      "outputs": []
    },
    {
      "cell_type": "code",
      "source": [
        "print(\"After distance\", a, b)"
      ],
      "metadata": {
        "id": "-1Z1QbjwLIGW"
      },
      "execution_count": null,
      "outputs": []
    },
    {
      "cell_type": "code",
      "source": [
        "a += 10"
      ],
      "metadata": {
        "id": "79VDkqopLPQb"
      },
      "execution_count": null,
      "outputs": []
    }
  ]
}