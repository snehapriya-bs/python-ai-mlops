{
  "nbformat": 4,
  "nbformat_minor": 0,
  "metadata": {
    "colab": {
      "private_outputs": true,
      "provenance": [],
      "include_colab_link": true
    },
    "kernelspec": {
      "name": "python3",
      "display_name": "Python 3"
    },
    "language_info": {
      "name": "python"
    }
  },
  "cells": [
    {
      "cell_type": "markdown",
      "metadata": {
        "id": "view-in-github",
        "colab_type": "text"
      },
      "source": [
        "<a href=\"https://colab.research.google.com/github/snehapriya-bs/python-ai-mlops/blob/main/PNB_Files.ipynb\" target=\"_parent\"><img src=\"https://colab.research.google.com/assets/colab-badge.svg\" alt=\"Open In Colab\"/></a>"
      ]
    },
    {
      "cell_type": "markdown",
      "source": [
        "## Practice Notebook\n",
        "\n",
        "\n"
      ],
      "metadata": {
        "id": "kgNeZlchqq00"
      }
    },
    {
      "cell_type": "code",
      "source": [
        "# @title Download the Dataset\n",
        "!wget https://cdn.iisc.talentsprint.com/AIandMLOps/Datasets/name.txt\n",
        "\n",
        "!wget https://cdn.iisc.talentsprint.com/AIandMLOps/Datasets/output.txt\n",
        "\n",
        "!wget https://cdn.iisc.talentsprint.com/AIandMLOps/Datasets/sample.txt"
      ],
      "metadata": {
        "cellView": "form",
        "id": "G5AWnoA9eD_X"
      },
      "execution_count": null,
      "outputs": []
    },
    {
      "cell_type": "markdown",
      "source": [
        "####Execise 1: In this exercise, extract the content of the sample file using open() function"
      ],
      "metadata": {
        "id": "Lkjty1yB-fv-"
      }
    },
    {
      "cell_type": "code",
      "execution_count": null,
      "metadata": {
        "id": "Vui1gZlW9OUQ"
      },
      "outputs": [],
      "source": [
        "f = open('sample.txt')\n",
        "# YOUR CODE HERE"
      ]
    },
    {
      "cell_type": "markdown",
      "source": [
        "####Exercise 2: From above file perform the following:\n",
        "\n",
        "1. Read the first 5 characters\n",
        "2. Access the sample file by reading it line by line using the .readline function"
      ],
      "metadata": {
        "id": "2DIE99X9__4z"
      }
    },
    {
      "cell_type": "code",
      "source": [
        "# YOUR CODE HERE"
      ],
      "metadata": {
        "id": "L3ZY9pPV_y7T"
      },
      "execution_count": null,
      "outputs": []
    },
    {
      "cell_type": "code",
      "source": [
        "# YOUR CODE HERE"
      ],
      "metadata": {
        "id": "WSbvaiZMAUWU"
      },
      "execution_count": null,
      "outputs": []
    },
    {
      "cell_type": "markdown",
      "source": [
        "####Exercise 3: Try to print the following command a = open('name.txt') and understand the output"
      ],
      "metadata": {
        "id": "-9ifxaJ1BVw2"
      }
    },
    {
      "cell_type": "code",
      "source": [
        "# YOUR CODE HERE"
      ],
      "metadata": {
        "id": "1mAh-yvoBDvn"
      },
      "execution_count": null,
      "outputs": []
    },
    {
      "cell_type": "markdown",
      "source": [
        "####Exercise 4: Write a program to read through a file and print the contents\n",
        "of the file (line by line) all in upper case."
      ],
      "metadata": {
        "id": "rRDHcPMTDf14"
      }
    },
    {
      "cell_type": "code",
      "source": [
        "# YOUR CODE HERE"
      ],
      "metadata": {
        "id": "WMbUVJ4fBx7q"
      },
      "execution_count": null,
      "outputs": []
    },
    {
      "cell_type": "markdown",
      "source": [
        "####Exrecise 5: Perform the following\n",
        "\n",
        "1. Open the file \"output.txt\" and append content to the file and read the file\n",
        "2. Open the file \"output.txt\" and overwrite the  content"
      ],
      "metadata": {
        "id": "i4BIC_l9D0gA"
      }
    },
    {
      "cell_type": "code",
      "source": [
        "# YOUR CODE HERE"
      ],
      "metadata": {
        "id": "m_702MN1DykM"
      },
      "execution_count": null,
      "outputs": []
    },
    {
      "cell_type": "code",
      "source": [
        "# YOUR CODE HERE"
      ],
      "metadata": {
        "id": "6L2N4Eq8N-H8"
      },
      "execution_count": null,
      "outputs": []
    },
    {
      "cell_type": "code",
      "source": [
        "# YOUR CODE HERE"
      ],
      "metadata": {
        "id": "ufflh-JFQQ45"
      },
      "execution_count": null,
      "outputs": []
    },
    {
      "cell_type": "code",
      "source": [
        "# YOUR CODE HERE"
      ],
      "metadata": {
        "id": "yFvU2uFqQ3Ep"
      },
      "execution_count": null,
      "outputs": []
    },
    {
      "cell_type": "markdown",
      "source": [
        "####Exercise 6:\n",
        "\n",
        "Write a Python program to count the number of lines in a sample text file.\n",
        "\n"
      ],
      "metadata": {
        "id": "qiRl4_AfR2w7"
      }
    },
    {
      "cell_type": "code",
      "source": [
        "# YOUR CODE HERE"
      ],
      "metadata": {
        "id": "HLLB4571Rvpd"
      },
      "execution_count": null,
      "outputs": []
    },
    {
      "cell_type": "markdown",
      "source": [
        "####Exercise 7:\n",
        "Write a Python program to assess if a file is closed or not."
      ],
      "metadata": {
        "id": "fQT_uD4-U3sU"
      }
    },
    {
      "cell_type": "code",
      "source": [
        "# YOUR CODE HERE"
      ],
      "metadata": {
        "id": "ep7dMzJDUhun"
      },
      "execution_count": null,
      "outputs": []
    }
  ]
}
