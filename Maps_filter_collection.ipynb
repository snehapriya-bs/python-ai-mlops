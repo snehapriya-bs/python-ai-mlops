{
  "nbformat": 4,
  "nbformat_minor": 0,
  "metadata": {
    "colab": {
      "private_outputs": true,
      "provenance": [],
      "include_colab_link": true
    },
    "kernelspec": {
      "name": "python3",
      "display_name": "Python 3"
    },
    "language_info": {
      "name": "python"
    }
  },
  "cells": [
    {
      "cell_type": "markdown",
      "metadata": {
        "id": "view-in-github",
        "colab_type": "text"
      },
      "source": [
        "<a href=\"https://colab.research.google.com/github/snehapriya-bs/python-ai-mlops/blob/main/Maps_filter_collection.ipynb\" target=\"_parent\"><img src=\"https://colab.research.google.com/assets/colab-badge.svg\" alt=\"Open In Colab\"/></a>"
      ]
    },
    {
      "cell_type": "markdown",
      "source": [
        "\n",
        "## FP:: map, filter and others\n",
        "## ADPVX Problem\n",
        "## FizzBuzz\n",
        "\n",
        "## As always we will pivot based on what doubts arise"
      ],
      "metadata": {
        "id": "VAXDfaBUkaKY"
      }
    },
    {
      "cell_type": "markdown",
      "source": [
        "# map\n",
        "\n",
        "1. initialise a collection, say $\\alpha$\n",
        "2. traverse over another collection, say $\\beta$\n",
        "3. fill up $\\beta$ with some transformed value of the elements of $\\alpha$"
      ],
      "metadata": {
        "id": "dWYYjh_zk2aG"
      }
    },
    {
      "cell_type": "code",
      "source": [
        "# map is the pattern\n",
        "def make_beta(f, alpha):\n",
        "    beta = set()\n",
        "    for elem in alpha:\n",
        "        beta.append(f(elem))\n",
        "    return beta"
      ],
      "metadata": {
        "id": "XXdVEfKcnWR9"
      },
      "execution_count": null,
      "outputs": []
    },
    {
      "cell_type": "markdown",
      "source": [
        " map(f, S) $\\equiv [f(S_0), f(S_1) ...]$"
      ],
      "metadata": {
        "id": "_q2sMGSjn5Lf"
      }
    },
    {
      "cell_type": "code",
      "source": [
        "def num2digits(n: int) -> list[int]:\n",
        "    return map(int, str(n))"
      ],
      "metadata": {
        "id": "b7QPb05boN99"
      },
      "execution_count": null,
      "outputs": []
    },
    {
      "cell_type": "code",
      "source": [
        "num2digits(1729)"
      ],
      "metadata": {
        "id": "lZ1Xm-ZGpYZX"
      },
      "execution_count": null,
      "outputs": []
    },
    {
      "cell_type": "code",
      "source": [
        "list(num2digits(1729))"
      ],
      "metadata": {
        "id": "QFkp6kw-pnuc"
      },
      "execution_count": null,
      "outputs": []
    },
    {
      "cell_type": "code",
      "source": [
        "int('4')"
      ],
      "metadata": {
        "id": "85DFLF08prVo"
      },
      "execution_count": null,
      "outputs": []
    },
    {
      "cell_type": "code",
      "source": [
        "int(\"45\")"
      ],
      "metadata": {
        "id": "SJQEnT-zr4l5"
      },
      "execution_count": null,
      "outputs": []
    },
    {
      "cell_type": "code",
      "source": [
        "for ch in num2digits(189567):\n",
        "    print(ch)"
      ],
      "metadata": {
        "id": "6Y5tJew5r80p"
      },
      "execution_count": null,
      "outputs": []
    },
    {
      "cell_type": "code",
      "source": [
        "words = [\"Hello\", \"World\", \"Python!\", \"Asokan Pichai\"]"
      ],
      "metadata": {
        "id": "iIusysmbsxt5"
      },
      "execution_count": null,
      "outputs": []
    },
    {
      "cell_type": "code",
      "source": [
        "for n in map(len, words):\n",
        "    print(n)"
      ],
      "metadata": {
        "id": "tO-kKPH_uPzS"
      },
      "execution_count": null,
      "outputs": []
    },
    {
      "cell_type": "markdown",
      "source": [
        "# filter\n",
        "\n",
        "$filter(f, S) -> [S_a, S_b ...]$, where\n",
        "\n",
        "$f(S_i)$ is True"
      ],
      "metadata": {
        "id": "0N46ky-EuXk_"
      }
    },
    {
      "cell_type": "code",
      "source": [
        "def is_perfect_squre(n: int) -> bool:\n",
        "    r = 0\n",
        "    while r * r < n:\n",
        "        r += 1\n",
        "    return r * r == n"
      ],
      "metadata": {
        "id": "Z6r3MztwvShL"
      },
      "execution_count": null,
      "outputs": []
    },
    {
      "cell_type": "code",
      "source": [
        "filter(is_perfect_squre, [1, 8, 12, 9, 36, 89, 90, 100, 1024])"
      ],
      "metadata": {
        "id": "L1O6wNQov5NL"
      },
      "execution_count": null,
      "outputs": []
    },
    {
      "cell_type": "code",
      "source": [
        "list(filter(is_perfect_squre, [1, 8, 12, 9, 36, 89, 90, 100, 1024]))"
      ],
      "metadata": {
        "id": "-OvfrghgwAkx"
      },
      "execution_count": null,
      "outputs": []
    },
    {
      "cell_type": "code",
      "source": [
        "list(map(is_perfect_squre, [1, 8, 12, 9, 36, 89, 90, 100, 1024]))"
      ],
      "metadata": {
        "id": "m88LLd80wEwF"
      },
      "execution_count": null,
      "outputs": []
    },
    {
      "cell_type": "code",
      "source": [
        "filter?"
      ],
      "metadata": {
        "id": "JM-jCtgRwQyH"
      },
      "execution_count": null,
      "outputs": []
    },
    {
      "cell_type": "markdown",
      "source": [
        "# list comprehension\n"
      ],
      "metadata": {
        "id": "YqZXniX_w4KZ"
      }
    },
    {
      "cell_type": "code",
      "source": [
        "def num_to_digits(n: int) -> list[int]:\n",
        "    return [int(ch) for ch in str(n)]\n",
        "# Here the lc is a map"
      ],
      "metadata": {
        "id": "iU1NcZXRxWoN"
      },
      "execution_count": null,
      "outputs": []
    },
    {
      "cell_type": "code",
      "source": [
        "num_to_digits(1729)"
      ],
      "metadata": {
        "id": "__0EiWMVxeod"
      },
      "execution_count": null,
      "outputs": []
    },
    {
      "cell_type": "code",
      "source": [
        "def pick_squares(nums: list[int]) -> list[int]:\n",
        "    return [a for a in nums if is_perfect_squre(a)]\n",
        "# Here lc is a filter"
      ],
      "metadata": {
        "id": "hv9iEz_zxgyQ"
      },
      "execution_count": null,
      "outputs": []
    },
    {
      "cell_type": "code",
      "source": [
        "pick_squares([1, 8, 12, 9, 36, 89, 90, 100, 1024])"
      ],
      "metadata": {
        "id": "8HbvgiRJyGxi"
      },
      "execution_count": null,
      "outputs": []
    },
    {
      "cell_type": "code",
      "source": [
        "def square(n):\n",
        "    return n * n\n",
        "def is_even(p):\n",
        "    return p % 2 == 0\n",
        "# Here we will combine a map and a filter in an lc\n",
        "def square_even_nums(nums: list[int]) -> list[int]:\n",
        "    return [square(a) for a in nums if is_even(a)]\n",
        "    # return [a * a for a in nums if a % 2 == 0]\n",
        "\n",
        "    # same as list(map(square, filter(is_even, nums)))"
      ],
      "metadata": {
        "id": "APly580iyLyE"
      },
      "execution_count": null,
      "outputs": []
    },
    {
      "cell_type": "code",
      "source": [
        "square_even_nums([1, 8, 12, 9, 36, 89, 90, 100, 1024])"
      ],
      "metadata": {
        "id": "8nHAuJqGyz5k"
      },
      "execution_count": null,
      "outputs": []
    },
    {
      "cell_type": "markdown",
      "source": [
        "# map(f, filter(g, S)) $\\equiv$ [f(x) for x in S if g(x)]"
      ],
      "metadata": {
        "id": "t_KezGxqy7oj"
      }
    },
    {
      "cell_type": "code",
      "source": [
        "zip?"
      ],
      "metadata": {
        "id": "ccoi5nii0hMk"
      },
      "execution_count": null,
      "outputs": []
    },
    {
      "cell_type": "code",
      "source": [
        "list(zip([1, 2, 3, 4], [10, 35, 46, 87]))"
      ],
      "metadata": {
        "id": "zPcTs7Jj5fLs"
      },
      "execution_count": null,
      "outputs": []
    },
    {
      "cell_type": "code",
      "source": [
        "list(zip([1, 2, 3, 4], [10, 35, 46]))"
      ],
      "metadata": {
        "id": "fOsxzSo057nT"
      },
      "execution_count": null,
      "outputs": []
    },
    {
      "cell_type": "code",
      "source": [
        "list(zip([1, 2, 3, 4], [10, 35, 46], strict=True))"
      ],
      "metadata": {
        "id": "LTDvU0AG6BMp"
      },
      "execution_count": null,
      "outputs": []
    },
    {
      "cell_type": "code",
      "source": [
        "zip?"
      ],
      "metadata": {
        "id": "x7PWLoGf6eJv"
      },
      "execution_count": null,
      "outputs": []
    },
    {
      "cell_type": "code",
      "source": [
        "all?"
      ],
      "metadata": {
        "id": "E18f0Fiq6iG5"
      },
      "execution_count": null,
      "outputs": []
    },
    {
      "cell_type": "code",
      "source": [
        "any?"
      ],
      "metadata": {
        "id": "xmFBs13K6rE7"
      },
      "execution_count": null,
      "outputs": []
    },
    {
      "cell_type": "code",
      "source": [
        "def is_ascending(s: str) -> bool:\n",
        "    return all([a < b for a, b in zip(s, s[1:])])"
      ],
      "metadata": {
        "id": "dACi9Swb6Gi0"
      },
      "execution_count": null,
      "outputs": []
    },
    {
      "cell_type": "code",
      "source": [
        "is_ascending(\"ab$%cd12-\")"
      ],
      "metadata": {
        "id": "B-ZM61fR64Nr"
      },
      "execution_count": null,
      "outputs": []
    },
    {
      "cell_type": "code",
      "source": [
        "s = \"abcd\""
      ],
      "metadata": {
        "id": "01pB0WAD7Ajj"
      },
      "execution_count": null,
      "outputs": []
    },
    {
      "cell_type": "code",
      "source": [
        "list(zip(s, s[1:]))"
      ],
      "metadata": {
        "id": "6otXLf8I7I9c"
      },
      "execution_count": null,
      "outputs": []
    },
    {
      "cell_type": "code",
      "source": [
        "[x < y for x, y in zip(s, s[1:])]"
      ],
      "metadata": {
        "id": "mPa-oyvU7MEl"
      },
      "execution_count": null,
      "outputs": []
    },
    {
      "cell_type": "code",
      "source": [
        "all([p < q for p, q in zip(s, s[1:])])"
      ],
      "metadata": {
        "id": "w8_VrY_M7RXe"
      },
      "execution_count": null,
      "outputs": []
    },
    {
      "cell_type": "code",
      "source": [
        "s[1:]"
      ],
      "metadata": {
        "id": "D6Ivk_lU7UeO"
      },
      "execution_count": null,
      "outputs": []
    },
    {
      "cell_type": "code",
      "source": [
        "s"
      ],
      "metadata": {
        "id": "GLOfJags7vIF"
      },
      "execution_count": null,
      "outputs": []
    },
    {
      "cell_type": "code",
      "source": [
        "zip(\"abcd\", \"bcd\")"
      ],
      "metadata": {
        "id": "Q6HHILjB_b0y"
      },
      "execution_count": null,
      "outputs": []
    },
    {
      "cell_type": "markdown",
      "source": [
        "## ADPVX"
      ],
      "metadata": {
        "id": "kGoUn0IM7wPr"
      }
    },
    {
      "cell_type": "code",
      "source": [
        "def is_ascending(s: str) -> bool:\n",
        "    return all([a < b for a, b in zip(s, s[1:])])\n",
        "\n",
        "def is_descending(s: str) -> bool:\n",
        "    return all([a > b for a, b in zip(s, s[1:])])\n",
        "\n",
        "def is_peak(s: str) -> bool:\n",
        "    peak = max(s)\n",
        "    if s.count(peak) > 1:\n",
        "        return False\n",
        "    first = s[:s.index(peak)]\n",
        "    second = s[s.index(peak):]\n",
        "    return is_ascending(first) and is_descending(second)\n",
        "\n",
        "def is_valley(s: str) -> bool:\n",
        "    valley = min(s)\n",
        "    if s.count(valley) > 1:\n",
        "        return False\n",
        "    first = s[:s.index(valley)]\n",
        "    second = s[s.index(valley):]\n",
        "    return is_descending(first) and is_ascending(second)\n"
      ],
      "metadata": {
        "id": "UKqZInNg_xxd"
      },
      "execution_count": null,
      "outputs": []
    },
    {
      "cell_type": "code",
      "source": [
        "def classify(s: str) -> str:\n",
        "    if is_ascending(s):\n",
        "        return 'A'\n",
        "    if is_descending(s):\n",
        "        return 'D'\n",
        "    if is_peak(s):\n",
        "        return 'P'\n",
        "    if is_valley(s):\n",
        "        return 'V'\n",
        "    return 'X'"
      ],
      "metadata": {
        "id": "_09oUf4rAwqj"
      },
      "execution_count": null,
      "outputs": []
    },
    {
      "cell_type": "code",
      "source": [
        "s = \"abccba\"\n",
        "print(max(s))\n",
        "p = s.index(max(s))\n",
        "print(p)\n",
        "print(s[:p], s[p:])"
      ],
      "metadata": {
        "id": "5-KLwadmDF2v"
      },
      "execution_count": null,
      "outputs": []
    },
    {
      "cell_type": "code",
      "source": [
        "# Does not handle repetition\n",
        "# This also fails for a valley and a peak\n",
        "def isPeak(s: str) -> bool:\n",
        "    peaks = [a < b > c for a, b, c in zip(s, s[1:], s[2:])]\n",
        "    return peaks.count(True) == 1"
      ],
      "metadata": {
        "id": "LUVimJ8SEDud"
      },
      "execution_count": null,
      "outputs": []
    },
    {
      "cell_type": "code",
      "source": [
        "def convert(a: str, b: str) -> str:\n",
        "    if a < b:\n",
        "        return \"+\"\n",
        "    if a == b:\n",
        "        return \"=\"\n",
        "    return \"-\"\n",
        "\n",
        "def transform(s: str) -> str:\n",
        "    return ''.join([convert(a, b) for a, b in zip(s, s[1:])])\n",
        "\n",
        "def squeeze(s: str) -> str:\n",
        "    if len(s) <= 1:\n",
        "        return s\n",
        "    if s[0] == s[1]:\n",
        "        return squeeze(s[1:])\n",
        "    return s[0] + squeeze(s[1:])\n",
        "\n",
        "def classify(s: str) -> str:\n",
        "    t = transform(s)\n",
        "    if '=' in t:\n",
        "        return 'X'\n",
        "    sig = squeeze(t)\n",
        "    if sig == '+': return 'A'\n",
        "    if sig == '-': return 'D'\n",
        "    if sig == '+-': return 'P'\n",
        "    if sig == '-+': return 'V'\n",
        "    return 'X'"
      ],
      "metadata": {
        "id": "51P03JLgFqvk"
      },
      "execution_count": null,
      "outputs": []
    },
    {
      "cell_type": "code",
      "source": [
        "classify(\"ABCCB\")"
      ],
      "metadata": {
        "id": "mqlUL1yrJqVr"
      },
      "execution_count": null,
      "outputs": []
    },
    {
      "cell_type": "code",
      "source": [
        "squeeze(\"ABCD\")"
      ],
      "metadata": {
        "id": "dVmRnP-bKbZv"
      },
      "execution_count": null,
      "outputs": []
    },
    {
      "cell_type": "code",
      "source": [
        "squeeze(\"ABBCD\")"
      ],
      "metadata": {
        "id": "3E5coXr6Kd0C"
      },
      "execution_count": null,
      "outputs": []
    },
    {
      "cell_type": "markdown",
      "source": [
        "# FizzBuzz"
      ],
      "metadata": {
        "id": "OL9WiRxrKgR-"
      }
    },
    {
      "cell_type": "markdown",
      "source": [
        "Given a number N, return a list consisting of N+1 elements.\n",
        "\n",
        "Element 0 is \" \"\n",
        "\n",
        "Elements at indices divisible by 3 are  “Fizz”.\n",
        "\n",
        "Elements at indices divisible by 5 are  “Buzz”.\n",
        "\n",
        "Elements at indices divisible by both 3 and 5, are  “FizzBuzz” .\n",
        "\n",
        "Other elements are just indices.\n",
        "\n",
        "input = 15\n",
        "\n",
        "output\n",
        "\n",
        "[\" \", \"1\", \"2\", \"Fizz\", \"4\", \"Buzz\", \"Fizz\", \"7\", \"8\", \"Fizz\", \"Buzz\", \"11\", \"Fizz\", \"13\", \"14\", \"FizzBuzz\"]"
      ],
      "metadata": {
        "id": "tiDeAECUOcaF"
      }
    },
    {
      "cell_type": "code",
      "source": [
        "F, B, FB = \"Fizz\", \"Buzz\", \"FizzBuzz\""
      ],
      "metadata": {
        "id": "9ngestiOXdVb"
      },
      "execution_count": null,
      "outputs": []
    },
    {
      "cell_type": "code",
      "source": [
        "def make_fizzbuzz(n: int) -> list[str]:\n",
        "    return [\" \"] + [fizzbuzz(n) for n in range(1, n + 1)]"
      ],
      "metadata": {
        "id": "pK929jLFT5R4"
      },
      "execution_count": null,
      "outputs": []
    },
    {
      "cell_type": "code",
      "source": [
        "def fizzbuzz_A(n: int) -> str:\n",
        "    if n % 15 == 0:\n",
        "        return FB\n",
        "    elif n % 3 == 0:\n",
        "        return F\n",
        "    elif n % 5 == 0:\n",
        "        return B\n",
        "    else:\n",
        "        return str(n)"
      ],
      "metadata": {
        "id": "kph5olPSXNWO"
      },
      "execution_count": null,
      "outputs": []
    },
    {
      "cell_type": "code",
      "source": [
        "fizzbuzz = fizzbuzz_A"
      ],
      "metadata": {
        "id": "cbdkIM-ZXsm-"
      },
      "execution_count": null,
      "outputs": []
    },
    {
      "cell_type": "code",
      "source": [
        "make_fizzbuzz(15)"
      ],
      "metadata": {
        "id": "TEbbTY6wX2we"
      },
      "execution_count": null,
      "outputs": []
    },
    {
      "cell_type": "code",
      "source": [
        "def fizzbuzz_B(n: int) -> str:\n",
        "    fb = ''\n",
        "    if n % 3 == 0:\n",
        "        fb += F\n",
        "    if n % 5 == 0:\n",
        "        fb += B\n",
        "    return str(n) if fb == '' else fb"
      ],
      "metadata": {
        "id": "9-q_FGgOX5wD"
      },
      "execution_count": null,
      "outputs": []
    },
    {
      "cell_type": "code",
      "source": [
        "fizzbuzz = fizzbuzz_B"
      ],
      "metadata": {
        "id": "KnCBevpsYkEs"
      },
      "execution_count": null,
      "outputs": []
    },
    {
      "cell_type": "code",
      "source": [
        "make_fizzbuzz(15)"
      ],
      "metadata": {
        "id": "kOPmDA96YrOf"
      },
      "execution_count": null,
      "outputs": []
    },
    {
      "cell_type": "code",
      "source": [
        "def fizzbuzz_C(n: int) -> str:\n",
        "    fbs = {(True, True):   FBD,\n",
        "           (True, False):  F,\n",
        "           (False, True):  B,\n",
        "           (False, False): str(n)}\n",
        "    return fbs[(n % 3 == 0, n % 5 == 0)]\n",
        "\n",
        "    #return {(True, True):FB, (True, False):F, (False, True):B, (False, False):str(n)}[(n % 3 == 0, n % 5 == 0)]\n"
      ],
      "metadata": {
        "id": "36L8snkhYuVH"
      },
      "execution_count": null,
      "outputs": []
    },
    {
      "cell_type": "code",
      "source": [
        "def pick(n: int) -> int:\n",
        "    return int(n % 5 == 0) * 2 + int(n % 3 == 0)\n",
        "def fizzbuzz_D(n: int) -> str:\n",
        "    return [str(n), F, B, FB][pick(n)]"
      ],
      "metadata": {
        "id": "7l27VwzzaG2U"
      },
      "execution_count": null,
      "outputs": []
    },
    {
      "cell_type": "code",
      "source": [
        " def fizzbuzz_E(n: int) -> str:\n",
        "    ######[0,  1,  2,  3,  4, 5, 6, 7,  8,  9, 10, 11,12, 13, 14]\n",
        "    fbs = [FB, '', '', F, '', B, F, '', '', F, B, '', F, '', '']\n",
        "    pos = n % 15\n",
        "    if fbs[pos] == '':\n",
        "        return str(n)\n",
        "    else:\n",
        "        return fbs[pos]"
      ],
      "metadata": {
        "id": "ad9u1OmdbiRF"
      },
      "execution_count": null,
      "outputs": []
    },
    {
      "cell_type": "code",
      "source": [
        "fizzbuzz = fizzbuzz_E"
      ],
      "metadata": {
        "id": "MmHV76BTd7Rx"
      },
      "execution_count": null,
      "outputs": []
    },
    {
      "cell_type": "code",
      "source": [
        "make_fizzbuzz(30)"
      ],
      "metadata": {
        "id": "Zqy3-GPAfgq4"
      },
      "execution_count": null,
      "outputs": []
    },
    {
      "cell_type": "code",
      "source": [
        "def makeFizzBuzz(n: int) -> list[str]:\n",
        "    fbs = [str(n) for n in range(n + 1)]\n",
        "    fbs[::3] = [F] * len(fbs[::3])\n",
        "    fbs[::5] = [B] * len(fbs[::5])\n",
        "    fbs[::15] = [FB] * len(fbs[::15])\n",
        "    fbs[0] = ' '\n",
        "    return fbs"
      ],
      "metadata": {
        "id": "W07bDgW2fjS1"
      },
      "execution_count": null,
      "outputs": []
    },
    {
      "cell_type": "code",
      "source": [
        "a = [str(n) for n in range(13)]\n",
        "print(a)"
      ],
      "metadata": {
        "id": "aj9UYtPP0C1U"
      },
      "execution_count": null,
      "outputs": []
    },
    {
      "cell_type": "code",
      "source": [
        "a[::2] = [\"Two\"] * len(a[::2])\n",
        "print(a)"
      ],
      "metadata": {
        "id": "jen2iCJe0Q8J"
      },
      "execution_count": null,
      "outputs": []
    },
    {
      "cell_type": "code",
      "source": [
        "a[::3] = [\"Three\"] * len(a[::3])\n",
        "print(a)"
      ],
      "metadata": {
        "id": "I4vjE28H0REg"
      },
      "execution_count": null,
      "outputs": []
    },
    {
      "cell_type": "code",
      "source": [
        "a[::6] = [\"Six\"] * len(a[::6])\n",
        "print(a)\n",
        "a[0] = ' '\n",
        "print(a)"
      ],
      "metadata": {
        "id": "A451dzrg0RHk"
      },
      "execution_count": null,
      "outputs": []
    },
    {
      "cell_type": "code",
      "source": [
        "makeFizzBuzz(30)"
      ],
      "metadata": {
        "id": "sGlrSk8agx20"
      },
      "execution_count": null,
      "outputs": []
    },
    {
      "cell_type": "code",
      "source": [
        "['a'] * 4"
      ],
      "metadata": {
        "id": "_KXaXpKSg10A"
      },
      "execution_count": null,
      "outputs": []
    },
    {
      "cell_type": "code",
      "source": [
        "n, total = 0, 1"
      ],
      "metadata": {
        "id": "UVldxakHhcmo"
      },
      "execution_count": null,
      "outputs": []
    },
    {
      "cell_type": "code",
      "source": [
        "a = [1, 2, 3, 4]"
      ],
      "metadata": {
        "id": "k-jn-PHkhqnq"
      },
      "execution_count": null,
      "outputs": []
    },
    {
      "cell_type": "code",
      "source": [
        "print(a[::2])"
      ],
      "metadata": {
        "id": "eNhVHVH0iT3U"
      },
      "execution_count": null,
      "outputs": []
    },
    {
      "cell_type": "code",
      "source": [
        "a[::2] = [\"Hello\", \"World\"]"
      ],
      "metadata": {
        "id": "GpIifLyfiU9I"
      },
      "execution_count": null,
      "outputs": []
    },
    {
      "cell_type": "code",
      "source": [
        "a"
      ],
      "metadata": {
        "id": "KpRPwPXGiZdz"
      },
      "execution_count": null,
      "outputs": []
    },
    {
      "cell_type": "code",
      "source": [
        "a[0] = \"subbu\""
      ],
      "metadata": {
        "id": "ZxqBcwrniZ5I"
      },
      "execution_count": null,
      "outputs": []
    },
    {
      "cell_type": "code",
      "source": [
        "type(\"Hello\")"
      ],
      "metadata": {
        "id": "YHRJrU-SkzJV"
      },
      "execution_count": null,
      "outputs": []
    },
    {
      "cell_type": "code",
      "source": [
        "di = {1: \"One\"}"
      ],
      "metadata": {
        "id": "VXsAglU5k081"
      },
      "execution_count": null,
      "outputs": []
    },
    {
      "cell_type": "code",
      "source": [
        "type(di)"
      ],
      "metadata": {
        "id": "adBKPzIRk6Hw"
      },
      "execution_count": null,
      "outputs": []
    },
    {
      "cell_type": "markdown",
      "source": [
        "# Afternoon session\n",
        "## Starts at 14:30\n",
        "\n",
        "## 1. Saving files from Colab\n",
        "## 2. File io\n",
        "## 3. Installing in Colab\n",
        "## 4. Mark list ranking"
      ],
      "metadata": {
        "id": "WdODKcx9k7Ce"
      }
    },
    {
      "cell_type": "code",
      "source": [
        "for line in open(\"/content/nums.txt\"):\n",
        "    print(line)"
      ],
      "metadata": {
        "id": "fOzEGUPAwWty"
      },
      "execution_count": null,
      "outputs": []
    },
    {
      "cell_type": "code",
      "source": [
        "!cat nums.txt"
      ],
      "metadata": {
        "id": "-NtKUO1i4NHf"
      },
      "execution_count": null,
      "outputs": []
    },
    {
      "cell_type": "code",
      "source": [
        "for line in open(\"/content/nums.txt\"):\n",
        "    print(line, end='')"
      ],
      "metadata": {
        "id": "m-d-XCA84o2r"
      },
      "execution_count": null,
      "outputs": []
    },
    {
      "cell_type": "code",
      "source": [
        "f = open(\"/content/nums.txt\")\n",
        "for line in f:\n",
        "    print(line, end='')"
      ],
      "metadata": {
        "id": "baC2iVaY43q4"
      },
      "execution_count": null,
      "outputs": []
    },
    {
      "cell_type": "code",
      "source": [
        "with open(\"/content/nums.txt\") as f:\n",
        "    for line in f:\n",
        "        print(line, end='')"
      ],
      "metadata": {
        "id": "VMO0bEgh5QJh"
      },
      "execution_count": null,
      "outputs": []
    },
    {
      "cell_type": "code",
      "source": [
        "print?"
      ],
      "metadata": {
        "id": "82W_USnU5a0J"
      },
      "execution_count": null,
      "outputs": []
    },
    {
      "cell_type": "code",
      "source": [
        "save = open(\"new_nums.txt\", \"w\")\n",
        "for line in open(\"nums.txt\"):\n",
        "    fig, word = line.strip().split()\n",
        "    print(f'{word}, {fig}', file=save)\n",
        "save.close()"
      ],
      "metadata": {
        "id": "mHetCrzU5ryN"
      },
      "execution_count": null,
      "outputs": []
    },
    {
      "cell_type": "code",
      "source": [
        "!cat new_nums.txt"
      ],
      "metadata": {
        "id": "kdx5qZL06VMV"
      },
      "execution_count": null,
      "outputs": []
    },
    {
      "cell_type": "code",
      "source": [
        "str.split?"
      ],
      "metadata": {
        "id": "zKH2EW-h6bEf"
      },
      "execution_count": null,
      "outputs": []
    },
    {
      "cell_type": "code",
      "source": [
        "import names"
      ],
      "metadata": {
        "id": "OYGUAPPH8Fgr"
      },
      "execution_count": null,
      "outputs": []
    },
    {
      "cell_type": "code",
      "source": [
        "!pip install names"
      ],
      "metadata": {
        "id": "DE8nDmmV9c0G"
      },
      "execution_count": null,
      "outputs": []
    },
    {
      "cell_type": "code",
      "source": [
        "import names"
      ],
      "metadata": {
        "id": "7OzHVmkQ91WV"
      },
      "execution_count": null,
      "outputs": []
    },
    {
      "cell_type": "code",
      "source": [
        "names.get_full_name()"
      ],
      "metadata": {
        "id": "wgYNKyS799FM"
      },
      "execution_count": null,
      "outputs": []
    },
    {
      "cell_type": "code",
      "source": [
        "import random"
      ],
      "metadata": {
        "id": "BEVtRAfU-Dys"
      },
      "execution_count": null,
      "outputs": []
    },
    {
      "cell_type": "code",
      "source": [
        "random.randint(0, 100)"
      ],
      "metadata": {
        "id": "uHZ8QUSv-O-_"
      },
      "execution_count": null,
      "outputs": []
    },
    {
      "cell_type": "code",
      "source": [
        "for _ in range(20):\n",
        "    print(random.randint(0, 100), end=' ')"
      ],
      "metadata": {
        "id": "Cf4u10fM-tKA"
      },
      "execution_count": null,
      "outputs": []
    },
    {
      "cell_type": "code",
      "source": [
        "with open(\"marklist.txt\", \"w\") as marklist:\n",
        "    REC_COUNT = 40\n",
        "    SUB_COUNT = 5\n",
        "    COMMA = ','\n",
        "    import names\n",
        "    import random\n",
        "    for _ in range(REC_COUNT):\n",
        "        std_name = names.get_full_name()\n",
        "        marks = [random.randint(0, 100) for _ in range(SUB_COUNT)]\n",
        "        print(std_name, *marks, sep=COMMA, file=marklist)"
      ],
      "metadata": {
        "id": "5FxaN37p-2Eb"
      },
      "execution_count": null,
      "outputs": []
    },
    {
      "cell_type": "code",
      "source": [
        "!cat marklist.txt"
      ],
      "metadata": {
        "id": "d5NqDH63_atF"
      },
      "execution_count": null,
      "outputs": []
    },
    {
      "cell_type": "code",
      "source": [
        "!wc marklist.txt"
      ],
      "metadata": {
        "id": "n7RUW_2dAwgE"
      },
      "execution_count": null,
      "outputs": []
    },
    {
      "cell_type": "code",
      "source": [
        "COMMA = ','\n",
        "with open(\"marklist.txt\") as m:\n",
        "    for line in m:\n",
        "        name, *raw_marks = line.split(COMMA)\n",
        "        print(name, raw_marks)"
      ],
      "metadata": {
        "id": "r_Z-8tw4CC4k"
      },
      "execution_count": null,
      "outputs": []
    },
    {
      "cell_type": "code",
      "source": [
        "COMMA = ','\n",
        "with open(\"marklist.txt\") as m:\n",
        "    for line in m:\n",
        "        name, *raw_marks = line.split(COMMA)\n",
        "        marks = [int(_) for _ in raw_marks]\n",
        "        print(name, marks)"
      ],
      "metadata": {
        "id": "eR2C6KetCt8r"
      },
      "execution_count": null,
      "outputs": []
    },
    {
      "cell_type": "code",
      "source": [
        "COMMA = ','\n",
        "with open(\"marklist.txt\") as m:\n",
        "    data = []\n",
        "    for line in m:\n",
        "        name, *raw_marks = line.split(COMMA)\n",
        "        marks = [int(_) for _ in raw_marks]\n",
        "        total = sum(marks)\n",
        "        data.append((name, total))\n",
        "print(data)"
      ],
      "metadata": {
        "id": "PHgQwF-cDGJC"
      },
      "execution_count": null,
      "outputs": []
    },
    {
      "cell_type": "code",
      "source": [
        "COMMA = ','\n",
        "PASS_MARK = 35\n",
        "def load_totals(filename: str) -> list:\n",
        "    with open(filename) as m:\n",
        "        data = []\n",
        "        for line in m:\n",
        "            name, *raw_marks = line.split(COMMA)\n",
        "            marks = [int(_) for _ in raw_marks]\n",
        "            total = sum(marks)\n",
        "            data.append((name, marks, total))\n",
        "    return data"
      ],
      "metadata": {
        "id": "XAqzRwh7DbBb"
      },
      "execution_count": null,
      "outputs": []
    },
    {
      "cell_type": "code",
      "source": [
        "print(load_totals(\"marklist.txt\"))"
      ],
      "metadata": {
        "id": "JdXTuRfgD54v"
      },
      "execution_count": null,
      "outputs": []
    },
    {
      "cell_type": "code",
      "source": [
        "def get_basis(rec: tuple) -> int:\n",
        "    name, marks, total = rec\n",
        "    passes = [mark >= PASS_MARK for mark in marks].count(True)\n",
        "    return (passes, total)"
      ],
      "metadata": {
        "id": "Gj-0E1YIEBRe"
      },
      "execution_count": null,
      "outputs": []
    },
    {
      "cell_type": "code",
      "source": [],
      "metadata": {
        "id": "KoJl43pyPCN4"
      },
      "execution_count": null,
      "outputs": []
    },
    {
      "cell_type": "code",
      "source": [
        "data = load_totals(\"marklist.txt\")"
      ],
      "metadata": {
        "id": "IZ9YZFdXEQyk"
      },
      "execution_count": null,
      "outputs": []
    },
    {
      "cell_type": "code",
      "source": [
        "sorted(data, key=get_basis, reverse=True)"
      ],
      "metadata": {
        "id": "LFeCqPCJEXKX"
      },
      "execution_count": null,
      "outputs": []
    },
    {
      "cell_type": "code",
      "source": [
        "def assign_ranks(data: list) -> list:\n",
        "    ranked_list = sorted(data, key=get_basis, reverse=True)\n",
        "    prev_rank = 0\n",
        "    prev_total = 0\n",
        "    for rank, rec in enumerate(ranked_list, start=1):\n",
        "        name, marks, total = rec\n",
        "        if total == prev_total:\n",
        "            curr_rank = prev_rank\n",
        "        else:\n",
        "            prev_total = total\n",
        "            curr_rank = rank\n",
        "            prev_rank = rank\n",
        "        print(f'{curr_rank:3} {name:25}{total:4}')"
      ],
      "metadata": {
        "id": "MQdqZT9zEaPw"
      },
      "execution_count": null,
      "outputs": []
    },
    {
      "cell_type": "code",
      "source": [
        "assign_ranks(data)"
      ],
      "metadata": {
        "id": "OLUNz-azG5nZ"
      },
      "execution_count": null,
      "outputs": []
    },
    {
      "cell_type": "code",
      "source": [
        "a = [1, 2, 3, 4]"
      ],
      "metadata": {
        "id": "cuaicSTXG9Rg"
      },
      "execution_count": null,
      "outputs": []
    },
    {
      "cell_type": "code",
      "source": [
        "p, q = a"
      ],
      "metadata": {
        "id": "VecEylz_NPtQ"
      },
      "execution_count": null,
      "outputs": []
    },
    {
      "cell_type": "code",
      "source": [
        "b, *c = a"
      ],
      "metadata": {
        "id": "jOX0Pk_uNMd8"
      },
      "execution_count": null,
      "outputs": []
    },
    {
      "cell_type": "code",
      "source": [
        "b"
      ],
      "metadata": {
        "id": "3XQkxRPQNOUt"
      },
      "execution_count": null,
      "outputs": []
    },
    {
      "cell_type": "code",
      "source": [
        "c"
      ],
      "metadata": {
        "id": "l0KHE8EINPSc"
      },
      "execution_count": null,
      "outputs": []
    },
    {
      "cell_type": "code",
      "source": [],
      "metadata": {
        "id": "vSKqA7UlNUpM"
      },
      "execution_count": null,
      "outputs": []
    },
    {
      "cell_type": "code",
      "source": [
        "(4, 70) > (3, 76)"
      ],
      "metadata": {
        "id": "f_IZCkvpPod8"
      },
      "execution_count": null,
      "outputs": []
    },
    {
      "cell_type": "code",
      "source": [
        "(4, 71) > (4, 70)"
      ],
      "metadata": {
        "id": "3CNCOzfhPrny"
      },
      "execution_count": null,
      "outputs": []
    },
    {
      "cell_type": "code",
      "source": [],
      "metadata": {
        "id": "9AoLlDJMPwkB"
      },
      "execution_count": null,
      "outputs": []
    }
  ]
}