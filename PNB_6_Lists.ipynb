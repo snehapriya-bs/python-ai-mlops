{
  "nbformat": 4,
  "nbformat_minor": 0,
  "metadata": {
    "colab": {
      "provenance": [],
      "private_outputs": true,
      "include_colab_link": true
    },
    "kernelspec": {
      "name": "python3",
      "display_name": "Python 3"
    }
  },
  "cells": [
    {
      "cell_type": "markdown",
      "metadata": {
        "id": "view-in-github",
        "colab_type": "text"
      },
      "source": [
        "<a href=\"https://colab.research.google.com/github/snehapriya-bs/python-ai-mlops/blob/main/PNB_6_Lists.ipynb\" target=\"_parent\"><img src=\"https://colab.research.google.com/assets/colab-badge.svg\" alt=\"Open In Colab\"/></a>"
      ]
    },
    {
      "cell_type": "markdown",
      "metadata": {
        "id": "TdOxmRdvhMuv"
      },
      "source": [
        "## **List**"
      ]
    },
    {
      "cell_type": "markdown",
      "metadata": {
        "id": "gHYltWQUhPna"
      },
      "source": [
        "#### Exercise 01:\n",
        "Reverse the order of the given list.\n"
      ]
    },
    {
      "cell_type": "code",
      "metadata": {
        "id": "SGr5LgIshFZy"
      },
      "source": [
        "a = [100, 200, 300, 400, 500]"
      ],
      "execution_count": null,
      "outputs": []
    },
    {
      "cell_type": "markdown",
      "metadata": {
        "id": "o2kl4zueib5W"
      },
      "source": [
        "Expected output : [500, 400, 300, 200, 100]"
      ]
    },
    {
      "cell_type": "code",
      "metadata": {
        "id": "XD3dwZ05ieKe"
      },
      "source": [
        "## YOUR CODE HERE"
      ],
      "execution_count": null,
      "outputs": []
    },
    {
      "cell_type": "markdown",
      "metadata": {
        "id": "O-TSshJ0in-w"
      },
      "source": [
        "#### Exercise 02:\n",
        "Concatenate two lists using `.extend()`.\n",
        "\n"
      ]
    },
    {
      "cell_type": "code",
      "metadata": {
        "id": "xbz7w5_JiyQ7"
      },
      "source": [
        "list1 = [\"Hello \", \"Students \"]\n",
        "list2 = (\"Dear\", \"Sir\")"
      ],
      "execution_count": null,
      "outputs": []
    },
    {
      "cell_type": "markdown",
      "metadata": {
        "id": "nv0a2lzespO8"
      },
      "source": [
        "Expected output : ['Hello ', 'Students ', 'Dear', 'Sir']"
      ]
    },
    {
      "cell_type": "code",
      "metadata": {
        "id": "9M9R2SkHi_se"
      },
      "source": [
        "## YOUR CODE HERE"
      ],
      "execution_count": null,
      "outputs": []
    },
    {
      "cell_type": "markdown",
      "metadata": {
        "id": "fK5Gc4KDmc9R"
      },
      "source": [
        "#### Exercise 03:\n",
        "For given list, perform the following:\n",
        "* Print the last element from the list.\n",
        "* Print index of element 4.\n",
        "\n"
      ]
    },
    {
      "cell_type": "code",
      "metadata": {
        "id": "22x5RBNPnoWT"
      },
      "source": [
        "list4 = [1, 2, 3, 4, 5, 6, 7]"
      ],
      "execution_count": null,
      "outputs": []
    },
    {
      "cell_type": "markdown",
      "metadata": {
        "id": "t9p9rezPsvUT"
      },
      "source": [
        "Expected outputs: 7  and 3"
      ]
    },
    {
      "cell_type": "code",
      "metadata": {
        "id": "1mzuxFhFtYHY"
      },
      "source": [
        "## YOUR CODE HERE"
      ],
      "execution_count": null,
      "outputs": []
    },
    {
      "cell_type": "markdown",
      "metadata": {
        "id": "Yb176jZtoDcw"
      },
      "source": [
        "#### Exercise 04:  \n",
        "Print the sublist from the given list.\n"
      ]
    },
    {
      "cell_type": "markdown",
      "metadata": {
        "id": "8r9FNtdat2HQ"
      },
      "source": [
        "Expected output : [9,8,7]"
      ]
    },
    {
      "cell_type": "code",
      "metadata": {
        "id": "RmF-bSAeodE1"
      },
      "source": [
        "list5 = [1, 2, 3, [9, 8, 7]]\n",
        "## YOUR CODE HERE"
      ],
      "execution_count": null,
      "outputs": []
    },
    {
      "cell_type": "markdown",
      "metadata": {
        "id": "aynisxhTueLO"
      },
      "source": [
        "#### Exercise 05:\n",
        "For given list, find the following:\n",
        "\n",
        "* Check the type of the list elements.\n",
        "* Check whether the element `'name'` is present in the list.\n",
        "* Find the length of the list."
      ]
    },
    {
      "cell_type": "code",
      "metadata": {
        "id": "ioHLtlbGuTvP"
      },
      "source": [
        "list6= [1,'name',0.7,\"this is a sentence\"]\n",
        "# YOUR CODE HERE"
      ],
      "execution_count": null,
      "outputs": []
    },
    {
      "cell_type": "markdown",
      "metadata": {
        "id": "wI1UrnQfwNWe"
      },
      "source": [
        "####Exercise 6:\n",
        "For the given list, find the following:\n",
        "\n",
        "* Find the count of the apples.\n",
        "* Insert the `'Watermelon'` at the last position."
      ]
    },
    {
      "cell_type": "code",
      "metadata": {
        "id": "pN_uttIEux6v"
      },
      "source": [
        "basket=['apple','apple','orange','mango','grape','orange','apple']\n",
        "# YOUR CODE HERE"
      ],
      "execution_count": null,
      "outputs": []
    },
    {
      "cell_type": "code",
      "metadata": {
        "id": "qgS5vzggn4E3"
      },
      "source": [
        "# YOUR CODE HERE"
      ],
      "execution_count": null,
      "outputs": []
    },
    {
      "cell_type": "markdown",
      "source": [
        "#### Exercise 07:  \n",
        "Print the squares of the numbers in the given list.\n"
      ],
      "metadata": {
        "id": "RBA3j8-RIQ5u"
      }
    },
    {
      "cell_type": "markdown",
      "source": [
        "Expected output :\n",
        "<br/>36<br/>49<br/>64"
      ],
      "metadata": {
        "id": "VDgNO3uFIYUl"
      }
    },
    {
      "cell_type": "code",
      "metadata": {
        "id": "MHn_vaFioIyO"
      },
      "source": [
        "list1 = [6, 7, 8]"
      ],
      "execution_count": null,
      "outputs": []
    },
    {
      "cell_type": "code",
      "metadata": {
        "id": "QgNPTxTroW2w"
      },
      "source": [
        "## YOUR CODE HERE"
      ],
      "execution_count": null,
      "outputs": []
    },
    {
      "cell_type": "markdown",
      "source": [
        "#### Exercise 08:\n",
        "For the given list, print only the positive elements.\n"
      ],
      "metadata": {
        "id": "yv54YbVDIdYm"
      }
    },
    {
      "cell_type": "markdown",
      "source": [
        "Expected output:\n",
        "\n",
        "2<br/>4<br/>6<br/>"
      ],
      "metadata": {
        "id": "IJDnwmxGIkXn"
      }
    },
    {
      "cell_type": "code",
      "source": [
        "list2 = [-1, 2, -3, 4, -5, 6, -7]"
      ],
      "metadata": {
        "id": "SeyfXE34IYqH"
      },
      "execution_count": null,
      "outputs": []
    },
    {
      "cell_type": "code",
      "source": [
        "## YOUR CODE HERE"
      ],
      "metadata": {
        "id": "K9_z6PglIixl"
      },
      "execution_count": null,
      "outputs": []
    },
    {
      "cell_type": "markdown",
      "source": [
        "#### Exercise 09:\n",
        "For the given list, print numbers which are multiples of 5.\n"
      ],
      "metadata": {
        "id": "gtrr3-yJIm88"
      }
    },
    {
      "cell_type": "markdown",
      "source": [
        "Expected output :\n",
        "\n",
        "10<br/>20<br/>30<br/>40"
      ],
      "metadata": {
        "id": "fXk_6TVwIzjT"
      }
    },
    {
      "cell_type": "code",
      "source": [
        "list3 = [10, 12, 20, 22, 30, 32, 40]"
      ],
      "metadata": {
        "id": "DTX8phUfIkpn"
      },
      "execution_count": null,
      "outputs": []
    },
    {
      "cell_type": "code",
      "source": [
        "## YOUR CODE HERE"
      ],
      "metadata": {
        "id": "rh-xkZNQIs7b"
      },
      "execution_count": null,
      "outputs": []
    },
    {
      "cell_type": "markdown",
      "source": [
        "#### Exercise 10:\n",
        "For the given list, print if the element is an one digit or a two-digit number.\n"
      ],
      "metadata": {
        "id": "NAHdHeYGI2qQ"
      }
    },
    {
      "cell_type": "markdown",
      "source": [
        "Expected output :\n",
        "\n",
        "5 is a one digit number.<br/>\n",
        "15 is a two digit number.<br/>\n",
        "20 is a two digit number.<br/>"
      ],
      "metadata": {
        "id": "a0puXvbzI9s3"
      }
    },
    {
      "cell_type": "code",
      "source": [
        "list4 = [5, 15, 20]"
      ],
      "metadata": {
        "id": "xgOyfyjmI3-D"
      },
      "execution_count": null,
      "outputs": []
    },
    {
      "cell_type": "code",
      "source": [
        "## YOUR CODE HERE"
      ],
      "metadata": {
        "id": "O8AP3GOGI6kK"
      },
      "execution_count": null,
      "outputs": []
    },
    {
      "cell_type": "markdown",
      "source": [
        "#### Exercise 11:\n",
        "For the given String, find the following:\n",
        "* Split the string into a list of words and print them.\n",
        "* Print the length of the list.\n",
        "\n"
      ],
      "metadata": {
        "id": "uY4AF7vGJBhO"
      }
    },
    {
      "cell_type": "markdown",
      "source": [
        " Expected output :\n",
        " <br/>['The', 'quick', 'brown', 'fox', 'jumps', 'over', 'the', 'lazy', 'dog']\n",
        " <br/>9"
      ],
      "metadata": {
        "id": "m64dkYxAJUkO"
      }
    },
    {
      "cell_type": "code",
      "source": [
        "string1 = \"The quick brown fox jumps over the lazy dog\""
      ],
      "metadata": {
        "id": "6g2MX3k9I63k"
      },
      "execution_count": null,
      "outputs": []
    },
    {
      "cell_type": "code",
      "source": [
        "## YOUR CODE HERE"
      ],
      "metadata": {
        "id": "7O5Yy-zHJSea"
      },
      "execution_count": null,
      "outputs": []
    },
    {
      "cell_type": "markdown",
      "source": [
        "#### Exercise 12:\n",
        "For the given List, find the following:\n",
        "* list items from 2nd to 3rd.\n",
        "* list items from beginning to 3rd.\n",
        "* list items from 4th to the end of the list.\n",
        "\n"
      ],
      "metadata": {
        "id": "7nbOyR5LJXXK"
      }
    },
    {
      "cell_type": "markdown",
      "source": [
        "Expected Output :\n",
        "<br/>[2, 3]\n",
        "<br/>[1, 2, 3]\n",
        "<br/>[4, 5, 6, 7]"
      ],
      "metadata": {
        "id": "1aENXHgnJbsx"
      }
    },
    {
      "cell_type": "code",
      "source": [
        "list5 = [1, 2, 3, 4, 5, 6, 7]"
      ],
      "metadata": {
        "id": "BUQMK__9JZ9x"
      },
      "execution_count": null,
      "outputs": []
    },
    {
      "cell_type": "code",
      "source": [
        "#YOUR CODE HERE"
      ],
      "metadata": {
        "id": "-FI4iFk9Jcpv"
      },
      "execution_count": null,
      "outputs": []
    },
    {
      "cell_type": "markdown",
      "source": [
        "#### Exercise 13:\n",
        "For the given list, print the numbers which are greater than or equal to 10."
      ],
      "metadata": {
        "id": "_nF2ypT2JoDC"
      }
    },
    {
      "cell_type": "markdown",
      "source": [
        "Expected Output :\n",
        "<br/>10<br/>11<br/>12<br/>13"
      ],
      "metadata": {
        "id": "Ry2mcz9QJvff"
      }
    },
    {
      "cell_type": "code",
      "source": [
        "list6 = [0, 1, 2, 3, 10, 11, 12, 13]"
      ],
      "metadata": {
        "id": "YJ6UqsltJd4_"
      },
      "execution_count": null,
      "outputs": []
    },
    {
      "cell_type": "code",
      "source": [
        "# YOUR CODE HERE"
      ],
      "metadata": {
        "id": "mGDGYJavJs-J"
      },
      "execution_count": null,
      "outputs": []
    }
  ]
}