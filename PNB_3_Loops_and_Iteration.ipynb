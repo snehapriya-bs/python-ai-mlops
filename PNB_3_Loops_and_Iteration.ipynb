{
  "nbformat": 4,
  "nbformat_minor": 0,
  "metadata": {
    "colab": {
      "private_outputs": true,
      "provenance": [],
      "include_colab_link": true
    },
    "kernelspec": {
      "name": "python3",
      "display_name": "Python 3"
    },
    "language_info": {
      "name": "python"
    }
  },
  "cells": [
    {
      "cell_type": "markdown",
      "metadata": {
        "id": "view-in-github",
        "colab_type": "text"
      },
      "source": [
        "<a href=\"https://colab.research.google.com/github/snehapriya-bs/python-ai-mlops/blob/main/PNB_3_Loops_and_Iteration.ipynb\" target=\"_parent\"><img src=\"https://colab.research.google.com/assets/colab-badge.svg\" alt=\"Open In Colab\"/></a>"
      ]
    },
    {
      "cell_type": "markdown",
      "source": [
        "## Practice Notebook"
      ],
      "metadata": {
        "id": "xpw5QCyiSraB"
      }
    },
    {
      "cell_type": "markdown",
      "source": [
        "Exercise 1:  Write a *while* loop to print numbers from 0 to 10"
      ],
      "metadata": {
        "id": "rTjGNDoQDMDY"
      }
    },
    {
      "cell_type": "code",
      "execution_count": null,
      "metadata": {
        "id": "qcRfEJm9DIup"
      },
      "outputs": [],
      "source": [
        "#YOUR CODE HERE"
      ]
    },
    {
      "cell_type": "markdown",
      "source": [
        "Exercise 2:  Print the first number greater than 100 that is divisible by 17"
      ],
      "metadata": {
        "id": "8mWr0oK_DvMG"
      }
    },
    {
      "cell_type": "code",
      "source": [
        "#YOUR CODE HERE"
      ],
      "metadata": {
        "id": "6HQKIFJPDVqd"
      },
      "execution_count": null,
      "outputs": []
    },
    {
      "cell_type": "markdown",
      "source": [
        "Exercise 3: Using *for* loop print out the characters of 'Portland'"
      ],
      "metadata": {
        "id": "eD3wqonyErxu"
      }
    },
    {
      "cell_type": "code",
      "source": [
        "#YOUR CODE HERE"
      ],
      "metadata": {
        "id": "Hmi5x5vOD36-"
      },
      "execution_count": null,
      "outputs": []
    },
    {
      "cell_type": "markdown",
      "source": [
        "Exercise 4: Do the following:\n",
        "\n",
        "1. Use a lower bound of 1 and an upper bound of 10 with range to print 1-9\n",
        "2. Use range with one bound only, the number 10, to print the first ten numbers\n",
        "3. Use a step increment to count the even numbers through 10"
      ],
      "metadata": {
        "id": "tvVaWtBjE98f"
      }
    },
    {
      "cell_type": "code",
      "source": [
        "#YOUR CODE HERE"
      ],
      "metadata": {
        "id": "FVkjF9igE1PE"
      },
      "execution_count": null,
      "outputs": []
    },
    {
      "cell_type": "code",
      "source": [
        "#YOUR CODE HERE"
      ],
      "metadata": {
        "id": "aM-K75asFFsY"
      },
      "execution_count": null,
      "outputs": []
    },
    {
      "cell_type": "code",
      "source": [
        "#YOUR CODE HERE"
      ],
      "metadata": {
        "id": "w00cuJgTFTyk"
      },
      "execution_count": null,
      "outputs": []
    },
    {
      "cell_type": "markdown",
      "source": [
        "Exercise 5:  print each letter of \"Python\" three times"
      ],
      "metadata": {
        "id": "WO1yct7BFqZV"
      }
    },
    {
      "cell_type": "code",
      "source": [
        "#YOUR CODE HERE"
      ],
      "metadata": {
        "id": "tlgLoJlsFfrH"
      },
      "execution_count": null,
      "outputs": []
    },
    {
      "cell_type": "markdown",
      "source": [
        "Exercise 6: Write a *for* loop for the following\n",
        "\n",
        "1.  print the squares of numbers from 1 to 10.\n",
        "2.  iterate over a list of names and print each name\n",
        "3.  calculate the sum of numbers in a given list."
      ],
      "metadata": {
        "id": "9GimWhLlJoJf"
      }
    },
    {
      "cell_type": "code",
      "source": [
        "#YOUR CODE HERE"
      ],
      "metadata": {
        "id": "9HHZAbh1F5E5"
      },
      "execution_count": null,
      "outputs": []
    },
    {
      "cell_type": "code",
      "source": [
        "#YOUR CODE HERE"
      ],
      "metadata": {
        "id": "co4epgpPKH6J"
      },
      "execution_count": null,
      "outputs": []
    },
    {
      "cell_type": "code",
      "source": [
        "#YOUR CODE HERE"
      ],
      "metadata": {
        "id": "ARJnmhcwKLcX"
      },
      "execution_count": null,
      "outputs": []
    },
    {
      "cell_type": "markdown",
      "source": [
        "Exercise 7: Write a nested loop to generate multiplication tables for numbers from 1 to 10"
      ],
      "metadata": {
        "id": "k8yzGR59KYks"
      }
    },
    {
      "cell_type": "code",
      "source": [
        "#YOUR CODE HERE"
      ],
      "metadata": {
        "id": "PAv31T6RKacB"
      },
      "execution_count": null,
      "outputs": []
    }
  ]
}