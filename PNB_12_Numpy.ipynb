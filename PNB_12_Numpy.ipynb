{
  "nbformat": 4,
  "nbformat_minor": 0,
  "metadata": {
    "colab": {
      "provenance": [],
      "include_colab_link": true
    },
    "kernelspec": {
      "name": "python3",
      "display_name": "Python 3"
    }
  },
  "cells": [
    {
      "cell_type": "markdown",
      "metadata": {
        "id": "view-in-github",
        "colab_type": "text"
      },
      "source": [
        "<a href=\"https://colab.research.google.com/github/snehapriya-bs/python-ai-mlops/blob/main/PNB_Numpy.ipynb\" target=\"_parent\"><img src=\"https://colab.research.google.com/assets/colab-badge.svg\" alt=\"Open In Colab\"/></a>"
      ]
    },
    {
      "cell_type": "markdown",
      "source": [
        "## Practice Notebook"
      ],
      "metadata": {
        "id": "pj9zUCIaV8-s"
      }
    },
    {
      "cell_type": "markdown",
      "metadata": {
        "id": "XaMNn3wLYPCp"
      },
      "source": [
        "### Introduction to Numpy\n",
        "NumPy (Numerical Python) is a python library for scientific computing, that provides high-performance vectors, matrices and higher-dimensional data structures for Python."
      ]
    },
    {
      "cell_type": "markdown",
      "metadata": {
        "id": "U2hvjYvI-PCp"
      },
      "source": [
        "## Numpy"
      ]
    },
    {
      "cell_type": "markdown",
      "metadata": {
        "id": "bFXr9Jw6thml"
      },
      "source": [
        "####  Exercise 1: Import the numpy package as np.\n",
        "\n",
        "Hint: use 'import … as …'"
      ]
    },
    {
      "cell_type": "code",
      "metadata": {
        "id": "IDOY6ZMvqLo8"
      },
      "source": [
        "# YOUR CODE HERE"
      ],
      "execution_count": null,
      "outputs": []
    },
    {
      "cell_type": "markdown",
      "metadata": {
        "id": "RK7s0EsTtnal"
      },
      "source": [
        "####  Exercise 2: Print the numpy version and the configuration.\n",
        "\n",
        "Hint: np.__version__, np.show_config"
      ]
    },
    {
      "cell_type": "code",
      "metadata": {
        "id": "JBcycyWLue6Z"
      },
      "source": [
        "# YOUR CODE HERE"
      ],
      "execution_count": null,
      "outputs": []
    },
    {
      "cell_type": "markdown",
      "metadata": {
        "id": "AeoNP5Cwughg"
      },
      "source": [
        "#### Exercise 3: Create an array of 10 zeros and 20 ones.\n",
        "\n",
        "Hint: np.zeros, np.ones"
      ]
    },
    {
      "cell_type": "code",
      "metadata": {
        "id": "iWQ0iMpwuhWx"
      },
      "source": [
        "# YOUR CODE HERE"
      ],
      "execution_count": null,
      "outputs": []
    },
    {
      "cell_type": "markdown",
      "metadata": {
        "id": "ka2AUzVQv804"
      },
      "source": [
        "####  Exercise 4: Create a vector with values ranging from 10 to 49.\n",
        "\n",
        "Hint: np.arange"
      ]
    },
    {
      "cell_type": "code",
      "metadata": {
        "id": "ZNwL2Ub5vuYk"
      },
      "source": [
        "# YOUR CODE HERE"
      ],
      "execution_count": null,
      "outputs": []
    },
    {
      "cell_type": "markdown",
      "metadata": {
        "id": "yAKm26J3wCgu"
      },
      "source": [
        "####  Exercise 5: Reverse a vector (first element becomes last).\n",
        "\n",
        "Hint: np.array[::-1]"
      ]
    },
    {
      "cell_type": "code",
      "metadata": {
        "id": "GOBhkidowD4c"
      },
      "source": [
        "# YOUR CODE HERE"
      ],
      "execution_count": null,
      "outputs": []
    },
    {
      "cell_type": "markdown",
      "metadata": {
        "id": "Q_06mID8w4MW"
      },
      "source": [
        "####  Exercise 6: Find the indices of the non-zero elements from [1, 2, 0, 0,  4, 0].\n",
        "\n",
        "Hint: np.nonzero"
      ]
    },
    {
      "cell_type": "code",
      "metadata": {
        "id": "y_iT1Dy0w7Gi"
      },
      "source": [
        "# YOUR CODE HERE"
      ],
      "execution_count": null,
      "outputs": []
    },
    {
      "cell_type": "markdown",
      "metadata": {
        "id": "nVfeZNX3wGNb"
      },
      "source": [
        "####  Exercise 7: Create a 3x3 identity matrix.\n",
        "\n",
        "Hint: np.eye"
      ]
    },
    {
      "cell_type": "code",
      "metadata": {
        "id": "8k4ir6ahJYyO"
      },
      "source": [
        "# YOUR CODE HERE"
      ],
      "execution_count": null,
      "outputs": []
    },
    {
      "cell_type": "markdown",
      "metadata": {
        "id": "TzHOcbSIxK6s"
      },
      "source": [
        "#### Exercise 7: Generate a random number between 0 and 1 using numpy.\n",
        "\n",
        "Hint: np.random.rand()"
      ]
    },
    {
      "cell_type": "code",
      "metadata": {
        "id": "2ZbT4b3XJZeK"
      },
      "source": [
        "# YOUR CODE HERE"
      ],
      "execution_count": null,
      "outputs": []
    },
    {
      "cell_type": "markdown",
      "metadata": {
        "id": "EgiUQA7QxUj2"
      },
      "source": [
        "####  Exercise 8: Create a 10x10 array with random values, find the minimum and the maximum values.\n",
        "\n",
        "Hint: min, max"
      ]
    },
    {
      "cell_type": "code",
      "metadata": {
        "id": "EX04NKRbJk2p"
      },
      "source": [
        "# YOUR CODE HERE"
      ],
      "execution_count": null,
      "outputs": []
    },
    {
      "cell_type": "markdown",
      "metadata": {
        "id": "5dPx9hY7xYJP"
      },
      "source": [
        "####  Exercise 9: Create a numpy array from the given `List`.\n",
        "\n",
        "Hint: np.array"
      ]
    },
    {
      "cell_type": "code",
      "metadata": {
        "id": "t9_k8sooJmJZ"
      },
      "source": [
        "# YOUR CODE HERE"
      ],
      "execution_count": null,
      "outputs": []
    },
    {
      "cell_type": "markdown",
      "metadata": {
        "id": "dp5BRXlMx6Fu"
      },
      "source": [
        "####  Exercise 10: Matrix multiplication for 1-D array.\n",
        "\n",
        "To multiply the matrix a and b.\n",
        "\n",
        "Hint: np.dot"
      ]
    },
    {
      "cell_type": "code",
      "metadata": {
        "id": "Q7F6olHUEfYT"
      },
      "source": [
        "a = np.array([9, 5, 7, 4])\n",
        "b = np.array([9, 5, 4, 3])\n",
        "\n",
        "# YOUR CODE HERE"
      ],
      "execution_count": null,
      "outputs": []
    },
    {
      "cell_type": "markdown",
      "metadata": {
        "id": "MbR5BjJLKte-"
      },
      "source": [
        "####  Exercise 11: Transpose the given array [ [ 1, 2, 3], [ 4, 5, 6],  [ 7, 8, 9], [10, 11, 12] ].\n",
        "Hint: np.transpose( )"
      ]
    },
    {
      "cell_type": "code",
      "metadata": {
        "id": "L5h9uKpzKx1o"
      },
      "source": [
        "# YOUR CODE HERE"
      ],
      "execution_count": null,
      "outputs": []
    },
    {
      "cell_type": "markdown",
      "metadata": {
        "id": "TqTdqi0qLPzM"
      },
      "source": [
        "####  Exercise 12: Given an array *A*, calculate the square root of the elements in it.\n",
        "\n",
        "Hint: np.sqrt( )"
      ]
    },
    {
      "cell_type": "code",
      "metadata": {
        "id": "YevrEXCILv2u"
      },
      "source": [
        "A = np.arange(1,20)\n",
        "\n",
        "# YOUR CODE HERE"
      ],
      "execution_count": null,
      "outputs": []
    },
    {
      "cell_type": "markdown",
      "metadata": {
        "id": "-xAt-FKUM7eF"
      },
      "source": [
        "#### Exercise 13: Concatenate two numpy arrays columnwise  by specifying axis = 1.\n",
        "Hint: np.concatenate( )"
      ]
    },
    {
      "cell_type": "code",
      "metadata": {
        "id": "b8KKeA8HNHWE"
      },
      "source": [
        "c =np.array([[1,2],[3,4]])\n",
        "d =np.array([[5,6],[7,8]])\n",
        "# YOUR CODE HERE"
      ],
      "execution_count": null,
      "outputs": []
    },
    {
      "cell_type": "markdown",
      "metadata": {
        "id": "Rbt3-28YOKIl"
      },
      "source": [
        "#### Exercise 14: Print the second and the third column for the given multidimensional array.\n"
      ]
    },
    {
      "cell_type": "code",
      "metadata": {
        "id": "6hJct3wLQMzL"
      },
      "source": [
        "a = np.array([[2, 4, 6, 8, 10],\n",
        "              [3, 6, 9, 12, 15],\n",
        "              [4, 8, 12, 16, 20]])\n",
        "# YOUR CODE HERE"
      ],
      "execution_count": null,
      "outputs": []
    },
    {
      "cell_type": "markdown",
      "metadata": {
        "id": "C9ZyeDhBQYpv"
      },
      "source": [
        "####  Exercise 15: For the given multidimensional array:\n",
        "1. Calculate the mean row wise by specifying axis = 0 and column wise by specifying axis =1.\n",
        "2. What is the average value of an array?"
      ]
    },
    {
      "cell_type": "code",
      "metadata": {
        "id": "xfS6nsFlkyDw"
      },
      "source": [
        "# 2D array\n",
        "array = np.array([[[2, 4, 6, 8, 10],\n",
        "              [3, 6, 9, 12, 15],\n",
        "              [4, 8, 12, 16, 20]]])\n",
        "#YOUR CODE HERE"
      ],
      "execution_count": null,
      "outputs": []
    },
    {
      "cell_type": "markdown",
      "metadata": {
        "id": "iM4ALiSdn5dR"
      },
      "source": [
        "#### Exercise 16: Create an array of all the even numbers from 30 to 70."
      ]
    },
    {
      "cell_type": "code",
      "metadata": {
        "id": "-Nk18AU7n-jG"
      },
      "source": [
        "#YOUR CODE HERE"
      ],
      "execution_count": null,
      "outputs": []
    },
    {
      "cell_type": "markdown",
      "metadata": {
        "id": "4dk-KHVD6AGF"
      },
      "source": [
        "#### Exercise 17: For the given array, get the slice of the first row and print them."
      ]
    },
    {
      "cell_type": "code",
      "metadata": {
        "id": "aQ_1ZMEuGzFE"
      },
      "source": [
        "a3 = np.array([[[10, 11, 12], [13, 14, 15], [16, 17, 18]],\n",
        "               [[20, 21, 22], [23, 24, 25], [26, 27, 28]],\n",
        "               [[30, 31, 32], [33, 34, 35], [36, 37, 38]]])\n",
        "\n",
        "#YOUR CODE HERE"
      ],
      "execution_count": null,
      "outputs": []
    }
  ]
}
