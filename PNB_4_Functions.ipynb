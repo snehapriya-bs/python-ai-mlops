{
  "nbformat": 4,
  "nbformat_minor": 0,
  "metadata": {
    "colab": {
      "provenance": [],
      "include_colab_link": true
    },
    "kernelspec": {
      "name": "python3",
      "display_name": "Python 3"
    }
  },
  "cells": [
    {
      "cell_type": "markdown",
      "metadata": {
        "id": "view-in-github",
        "colab_type": "text"
      },
      "source": [
        "<a href=\"https://colab.research.google.com/github/snehapriya-bs/python-ai-mlops/blob/main/PNB_4_Functions.ipynb\" target=\"_parent\"><img src=\"https://colab.research.google.com/assets/colab-badge.svg\" alt=\"Open In Colab\"/></a>"
      ]
    },
    {
      "cell_type": "markdown",
      "source": [
        "## Practice Notebook\n",
        "\n",
        "\n"
      ],
      "metadata": {
        "id": "z3HaSE94quKx"
      }
    },
    {
      "cell_type": "markdown",
      "source": [
        "#### Manually Created Functions\n",
        "Functions are very easy to write in python and all non-trivial programs have functions. Function names have the same rules as variable names.\n",
        "\n",
        "#### Built in Functions\n",
        "Python comes with a nice set of built-in functions\n",
        "The complete set can be seen at:https://docs.python.org/3.6/library/functions.html\n",
        "\n",
        "We take a look at the most used ones here."
      ],
      "metadata": {
        "id": "cjtwSnDTNwpI"
      }
    },
    {
      "cell_type": "markdown",
      "source": [
        "## Manually Created Functions"
      ],
      "metadata": {
        "id": "icKsHSwnULhw"
      }
    },
    {
      "cell_type": "markdown",
      "metadata": {
        "id": "gRs6bMS-YUgN"
      },
      "source": [
        "#### Exercise 01: Build a function that takes the below string as a parameter and returns the words in the given string in backward order.\n",
        "\n",
        "Hint: [Split the words and join them in the reverse order using ' '.join(iterable)](https://docs.python.org/3/library/stdtypes.html)"
      ]
    },
    {
      "cell_type": "code",
      "metadata": {
        "id": "7zS2WRHBYUgR"
      },
      "source": [
        "string1 = \"my name is johnny\""
      ],
      "execution_count": null,
      "outputs": []
    },
    {
      "cell_type": "code",
      "metadata": {
        "id": "8YbeeR45dDAJ"
      },
      "source": [
        "## YOUR CODE HERE"
      ],
      "execution_count": null,
      "outputs": []
    },
    {
      "cell_type": "markdown",
      "metadata": {
        "id": "QmjnX-rNkxxe"
      },
      "source": [
        "#### Exercise 02: For the given tuple of numbers, do the following:\n",
        "* Write a function which takes an integer 'N' as a parameter and returns the sum of multiples of 3 or 5 between 0 and N (limit). Where N is any element from the given tuple.\n",
        "* Print all the sum of multiples for each element from the tuple.\n",
        "* Example: If we list all the natural numbers less than 10 that are multiples of 3 or 5, we get 3, 5, 6, and 9 and their sum is 23"
      ]
    },
    {
      "cell_type": "code",
      "metadata": {
        "id": "8aEXBfFAlXhD"
      },
      "source": [
        "tuple2 = (10, 20, 30, 40, 50)"
      ],
      "execution_count": null,
      "outputs": []
    },
    {
      "cell_type": "code",
      "metadata": {
        "id": "GpyN1zSKRS-_"
      },
      "source": [
        "## YOUR CODE HERE"
      ],
      "execution_count": null,
      "outputs": []
    },
    {
      "cell_type": "markdown",
      "metadata": {
        "id": "Eush4rnY_Gy2"
      },
      "source": [
        "#### Exercise 03: Build a function to print prime numbers within the given range."
      ]
    },
    {
      "cell_type": "code",
      "metadata": {
        "id": "XOWLvObDvVNQ"
      },
      "source": [
        "limit = 20\n",
        "## YOUR CODE HERE"
      ],
      "execution_count": null,
      "outputs": []
    },
    {
      "cell_type": "markdown",
      "metadata": {
        "id": "JoecaqnzRahf"
      },
      "source": [
        "#### Exercise 4: Rock Paper Scissors: Complete the function below that takes the given input word as a parameter and selects a random element from the words list. It then prints the random word within the function and returns a string, declaring 'win' or 'lose' or 'tie'.\n",
        "\n",
        "Example: Random input= 'Scissors', User input= Paper, Output = 'lose'\n",
        "\n",
        "Hint: [random.choice](https://docs.python.org/3/library/random.html)"
      ]
    },
    {
      "cell_type": "code",
      "metadata": {
        "id": "-hXoV_CdR9Os"
      },
      "source": [
        "import random\n",
        "words = ['Rock','Paper','Scissors']\n",
        "input  = 'Paper'\n",
        "\n",
        "def game(input):\n",
        "  ## Complete the function"
      ],
      "execution_count": null,
      "outputs": []
    },
    {
      "cell_type": "markdown",
      "source": [
        "## Built-in Functions"
      ],
      "metadata": {
        "id": "zGN4_CEaUHs4"
      }
    },
    {
      "cell_type": "markdown",
      "source": [
        "#### Exercise 05: Extract maximum value of each element in the given list using the built-in max function.\n",
        "\n",
        "\n",
        "\n",
        "Hint: [max(iterable)](https://docs.python.org/3/library/functions.html#max)"
      ],
      "metadata": {
        "id": "tQOfYzymO4ek"
      }
    },
    {
      "cell_type": "code",
      "source": [
        "list1 = [[1,2,4],[5,6],[8,9,12],[21,44],[121]]"
      ],
      "metadata": {
        "id": "mP0ba14iO7JT"
      },
      "execution_count": null,
      "outputs": []
    },
    {
      "cell_type": "code",
      "source": [
        "## YOUR CODE HERE"
      ],
      "metadata": {
        "id": "Vj3mGI5bO_Pq"
      },
      "execution_count": null,
      "outputs": []
    },
    {
      "cell_type": "markdown",
      "source": [
        "#### Exercise 06: For given list *a* and *b* perform the following Aggregate Functions\n",
        "* len(iterable)\n",
        "* max(iterable)\n",
        "* min(iterable)\n",
        "* sorted(iterable, key, reverse)\n",
        "* sum(iterable, start)"
      ],
      "metadata": {
        "id": "NsrffgW5PFvL"
      }
    },
    {
      "cell_type": "code",
      "source": [
        "a = [1, 2, 3, 4, 5, 6, 7, 8, 9, 10]\n",
        "b = [5,10, 15, 20, 25, 30, 35, 40, 45, 50]"
      ],
      "metadata": {
        "id": "liPmIx_mPWVM"
      },
      "execution_count": null,
      "outputs": []
    },
    {
      "cell_type": "code",
      "source": [
        "# YOUR CODE HERE"
      ],
      "metadata": {
        "id": "_8E9DUwqPeTB"
      },
      "execution_count": null,
      "outputs": []
    },
    {
      "cell_type": "markdown",
      "source": [
        "#### Exercise 07: Print the data type of x, y and z  values"
      ],
      "metadata": {
        "id": "yerVE_tzVG39"
      }
    },
    {
      "cell_type": "code",
      "source": [
        "x = 10\n",
        "# YOUR CODE HERE\n",
        "\n",
        "y = 12.6\n",
        "# YOUR CODE HERE\n",
        "\n",
        "z = x + y\n",
        "# YOUR CODE HERE"
      ],
      "metadata": {
        "id": "xeR5yEdnPphw"
      },
      "execution_count": null,
      "outputs": []
    },
    {
      "cell_type": "markdown",
      "source": [
        "Exercise 08:  Initialize the string and perform the following:\n",
        "\n",
        "1. Check the type of string\n",
        "2. convert string to int and check the type"
      ],
      "metadata": {
        "id": "SaPsPE9Idbqn"
      }
    },
    {
      "cell_type": "code",
      "source": [
        "a = '1234'\n",
        "# YOUR CODE HERE"
      ],
      "metadata": {
        "id": "NRBsQnHMVas6"
      },
      "execution_count": null,
      "outputs": []
    },
    {
      "cell_type": "code",
      "source": [],
      "metadata": {
        "id": "9RUhtfSngtQx"
      },
      "execution_count": null,
      "outputs": []
    }
  ]
}