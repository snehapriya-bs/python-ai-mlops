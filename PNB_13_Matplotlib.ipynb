{
  "nbformat": 4,
  "nbformat_minor": 0,
  "metadata": {
    "colab": {
      "private_outputs": true,
      "provenance": [],
      "include_colab_link": true
    },
    "kernelspec": {
      "name": "python3",
      "display_name": "Python 3"
    },
    "language_info": {
      "name": "python"
    }
  },
  "cells": [
    {
      "cell_type": "markdown",
      "metadata": {
        "id": "view-in-github",
        "colab_type": "text"
      },
      "source": [
        "<a href=\"https://colab.research.google.com/github/snehapriya-bs/python-ai-mlops/blob/main/PNB_Matplotlib.ipynb\" target=\"_parent\"><img src=\"https://colab.research.google.com/assets/colab-badge.svg\" alt=\"Open In Colab\"/></a>"
      ]
    },
    {
      "cell_type": "markdown",
      "source": [
        "## Practice Notebook"
      ],
      "metadata": {
        "id": "s4RzxqenPINY"
      }
    },
    {
      "cell_type": "markdown",
      "source": [
        "## Import Libraries"
      ],
      "metadata": {
        "id": "2RusQoRvOFUt"
      }
    },
    {
      "cell_type": "code",
      "source": [
        "import matplotlib.pyplot as plt"
      ],
      "metadata": {
        "id": "lxbnwmkvOFEf"
      },
      "execution_count": null,
      "outputs": []
    },
    {
      "cell_type": "markdown",
      "source": [
        "#### Exercise 1: `Line chart`\n",
        "For the given data, plot the `Line chart`.\n",
        "\n",
        "Hint: [plt.plot](https://pythonbasics.org/matplotlib-line-chart/)"
      ],
      "metadata": {
        "id": "7QvrhtGFN9Ep"
      }
    },
    {
      "cell_type": "code",
      "source": [
        "# x-axis values\n",
        "x = [0, 1, 2, 3, 4]\n",
        "# y-axis values\n",
        "y = [2, 4, 6, 8, 10]\n",
        "\n",
        "# plotting the line graph\n",
        "\n",
        "# YOUR CODE HERE\n",
        "\n",
        "# setting the x and y axis labels\n",
        "# YOUR CODE HERE\n",
        "\n",
        "# setting the title of the graph\n",
        "# YOUR CODE HERE\n",
        "\n",
        "# displaying the graph\n",
        "# YOUR CODE HERE"
      ],
      "metadata": {
        "id": "INsK8EZFOCTv"
      },
      "execution_count": null,
      "outputs": []
    },
    {
      "cell_type": "markdown",
      "metadata": {
        "id": "MhYanSurbRoQ"
      },
      "source": [
        "#### Exercise 2: `Pie chart`\n",
        "For the given data plot the `pie chart`.\n",
        "\n",
        "Hint: [plt.pie](https://matplotlib.org/3.1.1/api/_as_gen/matplotlib.pyplot.pie.html)"
      ]
    },
    {
      "cell_type": "code",
      "metadata": {
        "id": "MzYCxBa3nUxy"
      },
      "source": [
        "labels = ['Cookies', 'Jellybean', 'Milkshake', 'Cheesecake']\n",
        "sizes = [38.4, 40.6, 20.7, 10.3]\n",
        "colors = ['yellowgreen', 'gold', 'lightskyblue', 'lightcoral']"
      ],
      "execution_count": null,
      "outputs": []
    },
    {
      "cell_type": "code",
      "metadata": {
        "id": "Hs_ls9H3bRC3"
      },
      "source": [
        "## YOUR CODE HERE"
      ],
      "execution_count": null,
      "outputs": []
    },
    {
      "cell_type": "markdown",
      "metadata": {
        "id": "o55mqDKXaBLi"
      },
      "source": [
        "#### Exercise 3: Heights and weights are given below.\n",
        "\n",
        "Taking height as x-axis and weight as y-axis, scatter the points.\n",
        "\n",
        "Hint: [plt.scatter](http://chris35wills.github.io/courses/PythonPackages_matplotlib/matplotlib_scatter)"
      ]
    },
    {
      "cell_type": "code",
      "metadata": {
        "id": "1zdhETSVgYcZ"
      },
      "source": [
        "male_heights= [73, 68, 74, 71 , 69, 67, 68, 68, 67, 63]\n",
        "male_weights= [241, 162, 212, 220 , 206, 152, 183 , 167, 175 , 156]"
      ],
      "execution_count": null,
      "outputs": []
    },
    {
      "cell_type": "code",
      "metadata": {
        "id": "c1z4a_RqauMf"
      },
      "source": [
        "## YOUR CODE HERE"
      ],
      "execution_count": null,
      "outputs": []
    },
    {
      "cell_type": "markdown",
      "metadata": {
        "id": "ObpO7EikbRCz"
      },
      "source": [
        "#### Exercise 4: Female height and weight are given below:\n",
        "\n",
        "1. Along with male height and weight, also plot female height and weight, with different marker.\n",
        "2. Indicate with a label for height and weight (X-axis, Y-axis).\n",
        "3. Indicate with legends for male and female.\n",
        "\n",
        "Hint: [legend and label](https://moonbooks.org/Articles/How-to-add-a-legend-for-a-scatter-plot-in-matplotlib-/)"
      ]
    },
    {
      "cell_type": "code",
      "metadata": {
        "id": "Xa_IDxRHkLgx"
      },
      "source": [
        "female_weights = [102, 141 , 131, 128, 129, 156, 114, 165, 111, 104]\n",
        "female_heights = [58, 65, 63, 64, 61, 65, 62, 65, 61, 63]"
      ],
      "execution_count": null,
      "outputs": []
    },
    {
      "cell_type": "code",
      "metadata": {
        "id": "YDCSSpIIbRoS"
      },
      "source": [
        "## YOUR CODE HERE"
      ],
      "execution_count": null,
      "outputs": []
    },
    {
      "cell_type": "markdown",
      "metadata": {
        "id": "duw_HzL9bTOx"
      },
      "source": [
        "#### Exercise 5: For the given data, plot the `Bar graph` and do the following:\n",
        "\n",
        "1. Set the x and y axis-labels.\n",
        "2. give the title as 'Bar Graph'.\n",
        "\n",
        "Hint: [plt.bar](https://matplotlib.org/stable/api/_as_gen/matplotlib.pyplot.bar.html)"
      ]
    },
    {
      "cell_type": "code",
      "metadata": {
        "id": "J8cIOKlCs9Rm"
      },
      "source": [
        "# x-axis values\n",
        "x = ['A', 'B', 'C', 'D', 'E']\n",
        "\n",
        "# y-axis values\n",
        "y = [10, 20, 30, 40, 50]\n",
        "\n",
        "# plotting the bar graph\n",
        "# YOUR CODE HERE\n",
        "\n",
        "# setting the x and y axis labels\n",
        "# YOUR CODE HERE\n",
        "\n",
        "# setting the title of the graph\n",
        "# YOUR CODE HERE\n",
        "\n",
        "# displaying the graph\n",
        "# YOUR CODE HERE"
      ],
      "execution_count": null,
      "outputs": []
    },
    {
      "cell_type": "markdown",
      "source": [
        "#### Exercise 6: For the given data, create four subplots using 2x2 grid and perform the following:\n",
        "\n",
        "1. The first subplot should show a `line graph`.\n",
        "2. Second subplot should show a `scatter plot`.\n",
        "3. The third subplot should show a `bar graph` of the weight of four men's.\n",
        "4. The fourth subplot should show a `histogram` of the ages of a group of 4 people."
      ],
      "metadata": {
        "id": "b-xogcoSRqm6"
      }
    },
    {
      "cell_type": "code",
      "source": [
        "# Create data for the subplots\n",
        "x = [1, 2, 3, 4]\n",
        "y = [1, 2, 3, 4]\n",
        "scatter_data1 = [1, 2, 3, 4]\n",
        "scatter_data2 = [2, 4, 6, 8]\n",
        "bar_data = [1, 2, 3, 4]\n",
        "bar_Weights = [50, 75, 100, 120]\n",
        "hist_data = [18, 22, 28, 31, 37, 42, 49, 52, 57, 65]\n",
        "\n",
        "# Create the figure and subplots\n",
        "# YOUR CODE HERE\n",
        "\n",
        "# line graph to the first subplot\n",
        "# YOUR CODE HERE\n",
        "\n",
        "# scatter plot to second subplot\n",
        "# YOUR CODE HERE\n",
        "\n",
        "# bar graph to the third subplot\n",
        "# YOUR CODE HERE\n",
        "\n",
        "# histogram to the fourth subplot\n",
        "# YOUR CODE HERE\n",
        "\n",
        "# title for subplots\n",
        "# YOUR CODE HERE\n",
        "\n",
        "# Adjust the spacing between the subplots\n",
        "# YOUR CODE HERE\n",
        "\n",
        "# YOUR CODE HERE"
      ],
      "metadata": {
        "id": "8mQ8TzJcOqUy"
      },
      "execution_count": null,
      "outputs": []
    }
  ]
}
