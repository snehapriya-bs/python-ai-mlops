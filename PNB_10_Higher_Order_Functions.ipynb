{
  "cells": [
    {
      "cell_type": "markdown",
      "metadata": {
        "id": "view-in-github",
        "colab_type": "text"
      },
      "source": [
        "<a href=\"https://colab.research.google.com/github/snehapriya-bs/python-ai-mlops/blob/main/PNB_Higher_Order_Functions.ipynb\" target=\"_parent\"><img src=\"https://colab.research.google.com/assets/colab-badge.svg\" alt=\"Open In Colab\"/></a>"
      ]
    },
    {
      "cell_type": "markdown",
      "source": [
        "## Practice Notebook"
      ],
      "metadata": {
        "id": "0k5t3IdvcdQB"
      }
    },
    {
      "cell_type": "markdown",
      "metadata": {
        "id": "dSZDlmSRIU5s"
      },
      "source": [
        "# Objective\n",
        "\n",
        "At the end of this practice notebook, you will be able to understand:\n",
        "* [map](https://docs.python.org/3.7/library/functions.html#map)\n",
        "* [filter](https://docs.python.org/3.7/library/functions.html#filter)\n",
        "* [reduce](https://docs.python.org/3.7/library/functools.html)\n",
        "* [zip](https://docs.python.org/3.7/library/functions.html#zip)\n",
        "* [lambda](https://docs.python.org/3.7/tutorial/controlflow.html)\n",
        "\n",
        "# Introduction:\n",
        "Functions that operate on other functions, either by taking them as arguments or by returning them, are called higher-order functions. We can use this function for elements of sequences, in order to reduce the time of explicit loop. We use them as they can simplify our code, execute the loop and iterations in a simple, elegant and efficient way.\n",
        "\n",
        "## map()\n",
        "The map() function returns an iterator that applies a function to every item of an iterable, yielding the results.\n",
        "\n",
        "* map() function syntax: `map(func, iterable)`\n",
        "* parameter: `func` is an function that `map()` pass to the every elements in the `iterable` object, the `iterable` is an object that has `__iter__` attribute, so every elements can execute the `func`\n",
        "* return value: a `map` object\n"
      ]
    },
    {
      "cell_type": "markdown",
      "source": [
        "\n",
        "Let us see an example:\n",
        "Assume we have a `list` that contain 1 - 10 digits, we want to add 2 to every number."
      ],
      "metadata": {
        "id": "NUYPN_Fm0LJw"
      }
    },
    {
      "cell_type": "code",
      "execution_count": null,
      "metadata": {
        "id": "JjZYhCJQIU5t"
      },
      "outputs": [],
      "source": [
        "#Without `map()` function\n",
        "numbers = [1, 2, 3, 4, 5, 6, 7, 8, 9, 10]\n",
        "for i in range(0, len(numbers)):\n",
        "    numbers[i] += 2\n",
        "print(numbers)"
      ]
    },
    {
      "cell_type": "code",
      "execution_count": null,
      "metadata": {
        "id": "jRqt9DtlIU5w"
      },
      "outputs": [],
      "source": [
        "#Or again, without `map()` function\n",
        "numbers = [1, 2, 3, 4, 5, 6, 7, 8, 9, 10]\n",
        "# create empty list\n",
        "result = []\n",
        "for n in numbers:\n",
        "    result.append(n+2)\n",
        "print(result)"
      ]
    },
    {
      "cell_type": "markdown",
      "metadata": {
        "id": "g4IC0QgVIU5w"
      },
      "source": [
        "With the `map()` function:"
      ]
    },
    {
      "cell_type": "code",
      "execution_count": null,
      "metadata": {
        "id": "NdaLGgXsIU5x"
      },
      "outputs": [],
      "source": [
        "def add_two(n):\n",
        "    return n+2\n",
        "\n",
        "numbers = [1, 2, 3, 4, 5, 6, 7, 8, 9, 10]\n",
        "result = map(add_two, numbers)\n",
        "print(result)\n",
        "print(type(result))\n",
        "print(list(result))"
      ]
    },
    {
      "cell_type": "markdown",
      "metadata": {
        "id": "-zkO6AcqIU5x"
      },
      "source": [
        "Notice that with `map()`, we have achieved our purpose by not using loop, meanwhile, the code is written in an elegent and simple way.\n",
        "The `map()` function returned a `map` object. If we use use this object in  future, this object type will help us to save the memory utilization. Below, we use the `getsizeof()` function from `sys` to see the memory utilization of each object, `map` object and `list`"
      ]
    },
    {
      "cell_type": "code",
      "execution_count": null,
      "metadata": {
        "id": "4Iq5Q6WbIU5y"
      },
      "outputs": [],
      "source": [
        "from sys import getsizeof\n",
        "print(f'The size of map object in memory is {getsizeof(result)} bytes')\n",
        "print(f'Convert it into list: {getsizeof(list(result))} bytes')"
      ]
    },
    {
      "cell_type": "markdown",
      "metadata": {
        "id": "XSsNG1gWIU5y"
      },
      "source": [
        "The requirement of object passed in `map()` function is `iterable` so as long as the object has attribute of `__iter__` it works, not only `list`, but also `tuple`, such as:"
      ]
    },
    {
      "cell_type": "code",
      "execution_count": null,
      "metadata": {
        "id": "pTl2usWtIU5y"
      },
      "outputs": [],
      "source": [
        "numbers = (1, 2, 3, 4, 5, 6, 7, 8, 9, 10)\n",
        "print(f\"Is tuple numbers iterable? Answer: {hasattr(numbers, '__iter__')}\")\n",
        "\n",
        "result = map(add_two, numbers)\n",
        "print(result)\n",
        "print(type(result))\n",
        "print(tuple(result))"
      ]
    },
    {
      "cell_type": "markdown",
      "metadata": {
        "id": "3MlkY01RIU5z"
      },
      "source": [
        "Notice that in order to achieve this, we need to create a function called `add_two(n)`? and it simply returns `n+2`, possible to reduce this further?  Yes, we can use `lambda`"
      ]
    },
    {
      "cell_type": "code",
      "execution_count": null,
      "metadata": {
        "id": "NRVU-9crIU5z"
      },
      "outputs": [],
      "source": [
        "numbers = (1, 2, 3, 4, 5, 6, 7, 8, 9, 10)\n",
        "result = map(lambda x: x + 2, numbers)\n",
        "print(tuple(result))"
      ]
    },
    {
      "cell_type": "markdown",
      "metadata": {
        "id": "KWR4f7t0IU5z"
      },
      "source": [
        "Besides using defined function or `lambda` function to execute the iterable, we also can utilize Python bulit-in function, built-in type to execute the iterable, as shown below:"
      ]
    },
    {
      "cell_type": "code",
      "execution_count": null,
      "metadata": {
        "id": "nrUXFdlIIU50"
      },
      "outputs": [],
      "source": [
        "# list of strings\n",
        "words = ['Delhi', 'Chennai', 'Hyderabad']\n",
        "\n",
        "# convert every element into a List\n",
        "converted = list(map(list, words))\n",
        "print(converted)\n",
        "print(f\"The type of converted: {type(converted)}\")\n",
        "print(f\"The length of converted: {len(converted)}\")"
      ]
    },
    {
      "cell_type": "markdown",
      "metadata": {
        "id": "Q_LLThDNIU50"
      },
      "source": [
        "`words` is a list that contains `string` type of elements. We have used `map()` and Python bulit-in `list` to convert every element in `words` into List"
      ]
    },
    {
      "cell_type": "markdown",
      "metadata": {
        "id": "ImgLPwWaIU51"
      },
      "source": [
        "## filter()\n",
        "\n",
        "`filter()` function uses a function to \"filter\" the sequence, the function examines if every element in the sequence is `True` or `False`\n",
        "\n",
        "* `filter()` syntax: `filter(func, iterable)`\n",
        "* Parameter: `func` test iterable sequances' elements is `True` or `False`, `iterable` is the iterable sequances that been filter\n",
        "* Return value: an iterable sequance that every elements is `True` to the filter function `func`\n",
        "\n",
        "Layman term: `filter()` is to filter a set of data based on the given conditions\n",
        "\n",
        "Example:\n"
      ]
    },
    {
      "cell_type": "code",
      "execution_count": null,
      "metadata": {
        "id": "Ox_SrP-UIU52"
      },
      "outputs": [],
      "source": [
        "# filter vowel\n",
        "def func(variable):\n",
        "    letters = ['a', 'e', 'i', 'o', 'u']\n",
        "    if (variable.lower() in letters):\n",
        "        return True\n",
        "    else:\n",
        "        return False\n",
        "\n",
        "# given sequence\n",
        "sequence = ['i', 'l', 'o', 'v', 'E', 'p', 'y', 't', 'h', 'o', 'n']\n",
        "\n",
        "filtered = list(filter(func, sequence))\n",
        "print(f\"The vowel in the sequence is {filtered}\")"
      ]
    },
    {
      "cell_type": "markdown",
      "metadata": {
        "id": "9XTekgEfIU52"
      },
      "source": [
        "Above we created a method to extract the vowels from a given sequence, the given sequence is `List`, so it has `'__iter__'`. Apply it to `filter()` to extract the vowel.\n",
        "\n",
        "Here we have another example:"
      ]
    },
    {
      "cell_type": "code",
      "execution_count": null,
      "metadata": {
        "id": "aqY6XBwUIU52"
      },
      "outputs": [],
      "source": [
        "# positive or negative number\n",
        "def positive(num):\n",
        "    if num > 0:\n",
        "        return True\n",
        "    else:\n",
        "        return False\n",
        "\n",
        "# odd or even number\n",
        "def even_number(num):\n",
        "    if num % 2 == 0:\n",
        "        return True\n",
        "    else:\n",
        "        return False\n",
        "\n",
        "numbers = [3, -3, 7, -20, 13, 22, 40]\n",
        "positive_number = list(filter(positive, numbers))\n",
        "even_number = list(filter(even_number, numbers))\n",
        "\n",
        "print(f\"The positive number is: {positive_number}.\")\n",
        "print(f\"The even number is {even_number}.\")"
      ]
    },
    {
      "cell_type": "markdown",
      "metadata": {
        "id": "kgseYxUbIU53"
      },
      "source": [
        "So, to use `filter()`,\n",
        "\n",
        "1. define a method that can filter as `True` or `False`\n",
        "2. apply it to an iterable object\n",
        "3. integrate it into your bigger code block\n",
        "\n",
        "Now let's see how to use `lambda` with filter:"
      ]
    },
    {
      "cell_type": "code",
      "execution_count": null,
      "metadata": {
        "id": "GRtdMwGmIU53"
      },
      "outputs": [],
      "source": [
        "numbers = [3, -3, 7, -20, 13, 22, 40]\n",
        "\n",
        "# positive number\n",
        "positive_number = filter(lambda x: x > 0, numbers)\n",
        "print(f\"The positive number is {list(positive_number)}.\")\n",
        "\n",
        "# even number\n",
        "even_number = filter(lambda x: x % 2 == 0, numbers)\n",
        "print(f\"The even number is {list(even_number)}.\")"
      ]
    },
    {
      "cell_type": "markdown",
      "metadata": {
        "id": "x8VTpNJiIU53"
      },
      "source": [
        "## Reduce()\n",
        "\n",
        "`reduce()` is very useful built-in function, it can execute iterable object's computation and return the result. It can compute rolling continuous values in an iterable sequence, such as cumulative product of integer list, or cumulative sum.\n",
        "\n",
        "* Syntax: `reduce(func, iterable)`\n",
        "* Parameter: `func`: a method to execute on each element of the iterable object, last result is the new parameter of next execution.\n",
        "* Return value: the `func` return value\n",
        "\n",
        "In Python 3, `reduce()` moved to `functools` module, so before we use it, we need to `import` it from `functools`\n",
        "\n",
        "Example:"
      ]
    },
    {
      "cell_type": "code",
      "execution_count": null,
      "metadata": {
        "id": "Cne4t7zgIU54"
      },
      "outputs": [],
      "source": [
        "from functools import reduce\n",
        "\n",
        "def do_product(num1, num2):\n",
        "    return num1 * num2\n",
        "\n",
        "print(f\"The product of 3, 4, 5 is: {reduce(do_product, [3, 4, 5])}.\")"
      ]
    },
    {
      "cell_type": "code",
      "source": [
        "#using lambda with reduce()\n",
        "\n",
        "print(f\"The product of 3, 4, 5 is: {reduce(lambda x, y: x*y, [3, 4, 5])}.\")"
      ],
      "metadata": {
        "id": "yyHdseTx7dbH"
      },
      "execution_count": null,
      "outputs": []
    },
    {
      "cell_type": "markdown",
      "metadata": {
        "id": "b1usBGl3IU55"
      },
      "source": [
        "## zip()\n",
        "\n",
        "`zip()` function zips multiple `iterable` objects together, and \"packs\" it as one single object, mapping with similar index.\n",
        "\n",
        "* Syntax: `zip(*iterators)`\n",
        "* Parameter: `iterators` is `iterable` object, such as `List`, `String`\n",
        "* Return value: Single iterator object, containing index value from the packed object.\n",
        "\n",
        "Example:"
      ]
    },
    {
      "cell_type": "code",
      "execution_count": null,
      "metadata": {
        "id": "j30oxzvXIU55"
      },
      "outputs": [],
      "source": [
        "keys = ['car', 'model']\n",
        "values = ['Hyundai', 'i20']\n",
        "\n",
        "car_dict = dict(zip(keys, values))\n",
        "print(car_dict)"
      ]
    },
    {
      "cell_type": "markdown",
      "metadata": {
        "id": "Q_oaGUoZIU55"
      },
      "source": [
        "`zip()`also supports multiple objects:"
      ]
    },
    {
      "cell_type": "code",
      "execution_count": null,
      "metadata": {
        "id": "WI4ZtWfDIU55"
      },
      "outputs": [],
      "source": [
        "name = ['Ganesh', 'Hitesh', 'Yograj']\n",
        "age = ['22', '23', '24']\n",
        "subject = ['statistics', 'calculus', 'probability']\n",
        "\n",
        "mapped_values = list(zip(name, age, subject))\n",
        "print(mapped_values)"
      ]
    },
    {
      "cell_type": "markdown",
      "metadata": {
        "id": "mdk-LXjBIU56"
      },
      "source": [
        "We can use the `zip()` function to easily pack the values that have same index from 3 lists. How can unpacking be done?\n",
        "\n",
        "Just similar to unpank tuple, we add the `*` to the object that we want to unpack"
      ]
    },
    {
      "cell_type": "code",
      "execution_count": null,
      "metadata": {
        "id": "T__8y7i3IU56"
      },
      "outputs": [],
      "source": [
        "name, age, subject = zip(*mapped_values)\n",
        "print(f\"The name is {name}\")\n",
        "print(f\"The age is {age}\")\n",
        "print(f\"The subject is {subject}\")"
      ]
    },
    {
      "cell_type": "markdown",
      "metadata": {
        "id": "t3T1P1e1IU56"
      },
      "source": [
        "## lambda()\n",
        "\n",
        "While normal functions are defined using the `def` keyword, in Python anonymous functions are defined using the `lambda` keyword. Hence, anonymous functions are also called lambda functions.\n",
        "\n",
        "> `Lambda` function can use any quantity of parameter, but only have one expression\n",
        "\n",
        "* Syntax: lambda argument: manipulate(argument)\n",
        "* Parameter: argument is passing the parameter. After `:` is the manipulation\n",
        "\n",
        "Example:"
      ]
    },
    {
      "cell_type": "code",
      "execution_count": null,
      "metadata": {
        "id": "QlYpHWVcIU56"
      },
      "outputs": [],
      "source": [
        "add_two = lambda x: x+2\n",
        "add_sum = lambda x, y: x+y\n",
        "\n",
        "print(add_two(2))\n",
        "print(add_sum(3, 3))"
      ]
    },
    {
      "cell_type": "markdown",
      "metadata": {
        "id": "D_qq45vcIU56"
      },
      "source": [
        "Normally we use `lambda` function along with other built-in function or `def` function, as shown above, with `map()`, `filter()`, `reduce()` and `zip()` functions.\n",
        "\n",
        "Let's see one more example of `lambda` interacting with `dict`"
      ]
    },
    {
      "cell_type": "code",
      "execution_count": null,
      "metadata": {
        "id": "EotnYEz8IU56"
      },
      "outputs": [],
      "source": [
        "university = [{'name': 'IISc',\n",
        "               'city': 'Bengaluru'},\n",
        "              {'name': 'Washington University',\n",
        "               'city': \"St. Louis\"}]\n",
        "\n",
        "names = list(map(lambda x: x['name'], university))\n",
        "print(names)"
      ]
    },
    {
      "cell_type": "markdown",
      "metadata": {
        "id": "QqCba81QIU58"
      },
      "source": [
        "Note that `lambda` functions do not have function names. So in the case of code transfer and project migration, it may bring difficulties to the team. It is advisable to write a function `add_two()`, because it is easy for everyone to understand and know that it is a function of performing `+2`. In a team, using lambda may confuse people."
      ]
    }
  ],
  "metadata": {
    "file_extension": ".py",
    "kernelspec": {
      "display_name": "Python 3.7.6 64-bit ('cpuml-venv': venv)",
      "language": "python",
      "name": "python37664bitcpumlvenvvenvd94f9e51502149bb8cea6e47812f52f1"
    },
    "language_info": {
      "codemirror_mode": {
        "name": "ipython",
        "version": 3
      },
      "file_extension": ".py",
      "mimetype": "text/x-python",
      "name": "python",
      "nbconvert_exporter": "python",
      "pygments_lexer": "ipython3",
      "version": "3.7.6"
    },
    "mimetype": "text/x-python",
    "name": "python",
    "npconvert_exporter": "python",
    "pygments_lexer": "ipython3",
    "version": 3,
    "colab": {
      "provenance": [],
      "include_colab_link": true
    }
  },
  "nbformat": 4,
  "nbformat_minor": 0
}
