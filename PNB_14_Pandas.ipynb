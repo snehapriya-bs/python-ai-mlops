{
  "nbformat": 4,
  "nbformat_minor": 0,
  "metadata": {
    "colab": {
      "private_outputs": true,
      "provenance": [],
      "include_colab_link": true
    },
    "kernelspec": {
      "name": "python3",
      "display_name": "Python 3"
    }
  },
  "cells": [
    {
      "cell_type": "markdown",
      "metadata": {
        "id": "view-in-github",
        "colab_type": "text"
      },
      "source": [
        "<a href=\"https://colab.research.google.com/github/snehapriya-bs/python-ai-mlops/blob/main/PNB_Pandas.ipynb\" target=\"_parent\"><img src=\"https://colab.research.google.com/assets/colab-badge.svg\" alt=\"Open In Colab\"/></a>"
      ]
    },
    {
      "cell_type": "markdown",
      "source": [
        "## Practice Notebook"
      ],
      "metadata": {
        "id": "DbsaCRr_TGVB"
      }
    },
    {
      "cell_type": "markdown",
      "metadata": {
        "id": "Jw4QHJlfsSF4"
      },
      "source": [
        "#### Pandas\n",
        "\n",
        "* Pandas is an important python library for data manipulation, wrangling, and analysis.\n",
        "* It functions as an intuitive and easy to use set of tools for performing operations on any kind of data.\n",
        "* Initial work for pandas was done by Wes McKinney in 2008 while he was a developer at AQR Capital Management. Since then, the scope of the pandas project has increased a lot and it has become a popular library of choice for data scientists all over the world.\n",
        "* Pandas allows you to work with both cross-sectional data and time series based data.\n",
        "* The data representation in pandas is done using two primary data structures:\n",
        "  - Series\n",
        "  - Dataframes"
      ]
    },
    {
      "cell_type": "code",
      "source": [
        "# @title  Download the data\n",
        "!wget https://cdn.iisc.talentsprint.com/AIandMLOps/Datasets/Employee.csv"
      ],
      "metadata": {
        "cellView": "form",
        "id": "fBf2lAN_Q4ON"
      },
      "execution_count": null,
      "outputs": []
    },
    {
      "cell_type": "markdown",
      "source": [
        "## Import Libraries"
      ],
      "metadata": {
        "id": "_OL61QThTcwi"
      }
    },
    {
      "cell_type": "code",
      "source": [
        "import pandas as pd"
      ],
      "metadata": {
        "id": "oVkrg8-HTfRw"
      },
      "execution_count": null,
      "outputs": []
    },
    {
      "cell_type": "markdown",
      "metadata": {
        "id": "bgCezf9ztJ2S"
      },
      "source": [
        "#### Excercise 1: Load the data"
      ]
    },
    {
      "cell_type": "code",
      "metadata": {
        "id": "sW9DMblWkhj_"
      },
      "source": [
        "dataset = \"Employee.csv\"\n",
        "# YOUR CODE HERE"
      ],
      "execution_count": null,
      "outputs": []
    },
    {
      "cell_type": "markdown",
      "metadata": {
        "id": "-pMXWDyaspe3"
      },
      "source": [
        "#### Exercise 2: Get the number of rows and columns of the dataframe.\n"
      ]
    },
    {
      "cell_type": "code",
      "metadata": {
        "id": "mv3l8T2LsubX"
      },
      "source": [
        "## YOUR CODE HERE"
      ],
      "execution_count": null,
      "outputs": []
    },
    {
      "cell_type": "markdown",
      "metadata": {
        "id": "Tyyeg3QglsLm"
      },
      "source": [
        "#### Exercise 3: Print the names of all the columns."
      ]
    },
    {
      "cell_type": "code",
      "metadata": {
        "id": "op4jEbTrL5nk"
      },
      "source": [
        "## YOUR CODE HERE"
      ],
      "execution_count": null,
      "outputs": []
    },
    {
      "cell_type": "markdown",
      "metadata": {
        "id": "QRypkIrUuKyQ"
      },
      "source": [
        "#### Exercise 4: Display the columns 4 to 9, for rows 7 to 13."
      ]
    },
    {
      "cell_type": "code",
      "metadata": {
        "id": "E81VaGiDt8k9"
      },
      "source": [
        "## YOUR CODE HERE"
      ],
      "execution_count": null,
      "outputs": []
    },
    {
      "cell_type": "markdown",
      "metadata": {
        "id": "Kvz9Jb0yuu6V"
      },
      "source": [
        "#### Exercise 5: Display the information of the employees who have  joined in quarter 1 and 4."
      ]
    },
    {
      "cell_type": "code",
      "metadata": {
        "id": "JFHedOvkvBIj"
      },
      "source": [
        "## YOUR CODE HERE"
      ],
      "execution_count": null,
      "outputs": []
    },
    {
      "cell_type": "markdown",
      "metadata": {
        "id": "qfo2T33sveKb"
      },
      "source": [
        "#### Exercise 6: How many people from the southern region joined on Monday?"
      ]
    },
    {
      "cell_type": "code",
      "metadata": {
        "id": "khO9zwWZvV5d"
      },
      "source": [
        "## YOUR CODE HERE"
      ],
      "execution_count": null,
      "outputs": []
    },
    {
      "cell_type": "markdown",
      "metadata": {
        "id": "hLdc0s80yaHj"
      },
      "source": [
        "#### Exercise 7: Display the information of the employees who have more than 13 years experience in the company.\n",
        "\n"
      ]
    },
    {
      "cell_type": "markdown",
      "metadata": {
        "id": "kU_2XkiLe1uQ"
      },
      "source": [
        "#### Types of data\n",
        "* Categorical data\n",
        "* Numeric data\n",
        "* Text data"
      ]
    },
    {
      "cell_type": "code",
      "metadata": {
        "id": "bYLEDVbkesSs"
      },
      "source": [
        "dataset['Age in Yrs.'].unique()"
      ],
      "execution_count": null,
      "outputs": []
    },
    {
      "cell_type": "code",
      "metadata": {
        "id": "5oUp0VrkyGRy"
      },
      "source": [
        "## YOUR CODE HERE"
      ],
      "execution_count": null,
      "outputs": []
    },
    {
      "cell_type": "markdown",
      "metadata": {
        "id": "5tqVuyJEmmkQ"
      },
      "source": [
        "#### Exercise 8: What is  the datatype of each column?"
      ]
    },
    {
      "cell_type": "code",
      "metadata": {
        "id": "tSsn_WEPmNmK"
      },
      "source": [
        "# YOUR CODE HERE"
      ],
      "execution_count": null,
      "outputs": []
    },
    {
      "cell_type": "markdown",
      "metadata": {
        "id": "ChcFlev1fvpa"
      },
      "source": [
        "#### Exercise 9: Remove \"%\" sign from the \"Last % Hike\" column values\n",
        "\n",
        "[Hint](https://stackoverflow.com/questions/52850192/python-extract-last-letter-of-a-string-from-a-pandas-column)\n",
        "\n"
      ]
    },
    {
      "cell_type": "code",
      "metadata": {
        "id": "CKVdg8TKffYe"
      },
      "source": [
        "## YOUR CODE HERE"
      ],
      "execution_count": null,
      "outputs": []
    },
    {
      "cell_type": "markdown",
      "metadata": {
        "id": "cWtugD6PZrAx"
      },
      "source": [
        "#### Exercise 10:  How many Female employees got hike of more than 20% ?"
      ]
    },
    {
      "cell_type": "code",
      "metadata": {
        "id": "aVnP_hC6yjJO"
      },
      "source": [
        "## YOUR CODE HERE"
      ],
      "execution_count": null,
      "outputs": []
    }
  ]
}
