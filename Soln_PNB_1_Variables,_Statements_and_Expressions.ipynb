{
  "nbformat": 4,
  "nbformat_minor": 0,
  "metadata": {
    "colab": {
      "private_outputs": true,
      "provenance": [],
      "include_colab_link": true
    },
    "kernelspec": {
      "name": "python3",
      "display_name": "Python 3"
    },
    "language_info": {
      "name": "python"
    }
  },
  "cells": [
    {
      "cell_type": "markdown",
      "metadata": {
        "id": "view-in-github",
        "colab_type": "text"
      },
      "source": [
        "<a href=\"https://colab.research.google.com/github/snehapriya-bs/python-ai-mlops/blob/main/Soln_PNB_1_Variables%2C_Statements_and_Expressions.ipynb\" target=\"_parent\"><img src=\"https://colab.research.google.com/assets/colab-badge.svg\" alt=\"Open In Colab\"/></a>"
      ]
    },
    {
      "cell_type": "markdown",
      "source": [
        "## Practice Notebook\n",
        "\n",
        "\n"
      ],
      "metadata": {
        "id": "rr5USj--ql23"
      }
    },
    {
      "cell_type": "markdown",
      "source": [
        "#### Exercise 1: Check the type for the following\n",
        "\n",
        "1. a = 6\n",
        "2. b = 6.4\n",
        "3. c = \"Hello\"\n",
        "4. d = \"17\"\n",
        "4. print e = a + b and check the type of e\n"
      ],
      "metadata": {
        "id": "uMAWvCJ3ml1z"
      }
    },
    {
      "cell_type": "code",
      "source": [
        "a = 6\n",
        "b = 6.4\n",
        "c = a + b\n",
        "print (c)"
      ],
      "metadata": {
        "id": "W-e1iD9SQTim"
      },
      "execution_count": null,
      "outputs": []
    },
    {
      "cell_type": "markdown",
      "source": [
        "#### Exercise 2: The goal of this exercise is to determine types and then change those types. Perform the following:\n",
        "\n",
        "1. convert 7.999999999 to an int\n",
        "2. Convert 6 to a float"
      ],
      "metadata": {
        "id": "KA_glXMvoass"
      }
    },
    {
      "cell_type": "code",
      "source": [
        "a=7.999999999\n",
        "b=int(a)\n",
        "print (b)\n",
        "c=type(int(a))\n",
        "print (c)"
      ],
      "metadata": {
        "id": "LgettyQFpG04"
      },
      "execution_count": null,
      "outputs": []
    },
    {
      "cell_type": "markdown",
      "source": [
        "#### Exercise 3: The goal of this exercise is to assign values to variables. Variables can be assigned any value.\n",
        "\n",
        "1. Assign value 2 to the x variable and print x\n",
        "2. Add 1 to the variable x and check the output\n",
        "3. Change x to 3.0 and add 1 to x"
      ],
      "metadata": {
        "id": "l7uH5N8VpPM6"
      }
    },
    {
      "cell_type": "code",
      "source": [
        "a =2\n",
        "print (a)\n",
        "a = a + 1\n",
        "print (a)\n",
        "a=3.0\n",
        "a=a+1\n",
        "print(a)"
      ],
      "metadata": {
        "id": "5cBdV5CDrMoX"
      },
      "execution_count": null,
      "outputs": []
    },
    {
      "cell_type": "markdown",
      "source": [
        "#### Exercise 4: The goal of this exercise is to learn standard ways to name variables by considering good and bad practices\n",
        "\n",
        "1. Create a variable called first_number and assign it a value of 1. Then check the output\n",
        "2. Create a variable called first_number@ and assign it a value of 1. Then check the output\n",
        "\n",
        "Recall the rules for Python variables naming:\n",
        "\n",
        "  * A variable name must start with a letter or the underscore character\n",
        "  * A variable name cannot start with a number\n",
        "  * A variable name can only contain alpha-numeric characters and underscores (A-z, 0-9, and _ )\n",
        "  * Variable names are case-sensitive (age, Age and AGE are three different variables)"
      ],
      "metadata": {
        "id": "wU3o9jXmr-3a"
      }
    },
    {
      "cell_type": "code",
      "source": [
        "#YOUR CODE HERE\n",
        "first_number=1\n",
        "print (first_number)\n",
        "first_number@=1\n",
        "print (first_number)"
      ],
      "metadata": {
        "id": "TaiM1rC9semk"
      },
      "execution_count": null,
      "outputs": []
    },
    {
      "cell_type": "markdown",
      "source": [
        "#### Exercise 5 : Perform mathematical operations using more than one variable.\n",
        "\n",
        "1. Assign 5 to x and 2 to y\n",
        "2. Add x to x and subtract y to the second power then assign to the variable z. Print z\n",
        "3. Assign 8 to x and 5 to y in a single line\n",
        "4. Find the integer division of x and y. Check the output.\n"
      ],
      "metadata": {
        "id": "z7qtHTljs8aP"
      }
    },
    {
      "cell_type": "code",
      "source": [
        "#YOUR CODE HERE\n",
        "x=5\n",
        "y=2\n",
        "z = (x + x) - (y ** 2)\n",
        "print (z)\n",
        "x=8 ; y=5\n",
        "z=x/y\n",
        "print(z)"
      ],
      "metadata": {
        "id": "Y3cOzdvJtMOv"
      },
      "execution_count": null,
      "outputs": []
    },
    {
      "cell_type": "markdown",
      "source": [
        "#### Exercise6: For given a and b values perform the following:\n",
        "\n",
        "1. Perform addition on a and b  using the + operator\n",
        "2. Perform subtraction on a and b  using the + operator\n",
        "3. Use the * multiplication operator to multiply a and b\n",
        "4. Use the / division operator and observe the output\n"
      ],
      "metadata": {
        "id": "E8WFcjawkAF4"
      }
    },
    {
      "cell_type": "code",
      "execution_count": null,
      "metadata": {
        "id": "thrKVuvfhocd"
      },
      "outputs": [],
      "source": [
        "#YOUR CODE HERE\n",
        "a=1; b=2\n",
        "print (a+b)\n",
        "print (a*b)\n",
        "print (a/b)\n",
        "print (a-b)"
      ]
    },
    {
      "cell_type": "markdown",
      "source": [
        "#### Exercise 7: Perform the following:\n",
        "\n",
        "1. Add '5' and '7'\n",
        "2. Add '5' and '7' by converting them to int\n",
        "3. Determine the type of '5'\n"
      ],
      "metadata": {
        "id": "9pajWy3dun3S"
      }
    },
    {
      "cell_type": "code",
      "source": [
        "#YOUR CODE HERE\n",
        "b=5+7\n",
        "c=int(b)\n",
        "print (type(c))"
      ],
      "metadata": {
        "id": "qOKRdzuPu5--"
      },
      "execution_count": null,
      "outputs": []
    }
  ]
}